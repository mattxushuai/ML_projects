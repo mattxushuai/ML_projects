{
 "cells": [
  {
   "cell_type": "markdown",
   "metadata": {},
   "source": [
    "# 1. Load Data and Initial Read"
   ]
  },
  {
   "cell_type": "markdown",
   "metadata": {},
   "source": [
    "## 1.1 Load Libraries"
   ]
  },
  {
   "cell_type": "code",
   "execution_count": 1,
   "metadata": {},
   "outputs": [
    {
     "data": {
      "text/html": [
       "        <script type=\"text/javascript\">\n",
       "        window.PlotlyConfig = {MathJaxConfig: 'local'};\n",
       "        if (window.MathJax) {MathJax.Hub.Config({SVG: {font: \"STIX-Web\"}});}\n",
       "        if (typeof require !== 'undefined') {\n",
       "        require.undef(\"plotly\");\n",
       "        requirejs.config({\n",
       "            paths: {\n",
       "                'plotly': ['https://cdn.plot.ly/plotly-latest.min']\n",
       "            }\n",
       "        });\n",
       "        require(['plotly'], function(Plotly) {\n",
       "            window._Plotly = Plotly;\n",
       "        });\n",
       "        }\n",
       "        </script>\n",
       "        "
      ]
     },
     "metadata": {},
     "output_type": "display_data"
    }
   ],
   "source": [
    "# Python libraries\n",
    "import pandas as pd\n",
    "import numpy as np\n",
    "import seaborn as sns\n",
    "import matplotlib.pyplot as plt\n",
    "import scipy.stats as ss\n",
    "%matplotlib inline\n",
    "import itertools\n",
    "import lightgbm as lgbm\n",
    "from sklearn.decomposition import PCA\n",
    "from sklearn.preprocessing import StandardScaler, LabelEncoder\n",
    "from sklearn.model_selection import GridSearchCV, cross_val_score, train_test_split, GridSearchCV, RandomizedSearchCV\n",
    "from sklearn.metrics import precision_score, recall_score, confusion_matrix,  roc_curve, precision_recall_curve, accuracy_score, roc_auc_score\n",
    "from datetime import datetime\n",
    "import lightgbm as lgbm\n",
    "import warnings\n",
    "from scipy.stats import randint as sp_randint\n",
    "from scipy.stats import uniform as sp_uniform\n",
    "import plotly.offline as py\n",
    "py.init_notebook_mode(connected=True)\n",
    "import plotly.graph_objs as go\n",
    "import plotly.tools as tls\n",
    "import plotly.figure_factory as ff\n",
    "import warnings\n",
    "\n",
    "from contextlib import contextmanager\n",
    "\n",
    "@contextmanager\n",
    "def timer(title):\n",
    "    t0 = time.time()\n",
    "    yield\n",
    "    print(\"{} - done in {:.0f}s\".format(title, time.time() - t0))\n",
    "\n",
    "warnings.filterwarnings('ignore') #ignore warning messages "
   ]
  },
  {
   "cell_type": "markdown",
   "metadata": {},
   "source": [
    "## 1.2 Load Dataset"
   ]
  },
  {
   "cell_type": "code",
   "execution_count": 2,
   "metadata": {},
   "outputs": [
    {
     "data": {
      "text/html": [
       "<div>\n",
       "<style scoped>\n",
       "    .dataframe tbody tr th:only-of-type {\n",
       "        vertical-align: middle;\n",
       "    }\n",
       "\n",
       "    .dataframe tbody tr th {\n",
       "        vertical-align: top;\n",
       "    }\n",
       "\n",
       "    .dataframe thead th {\n",
       "        text-align: right;\n",
       "    }\n",
       "</style>\n",
       "<table border=\"1\" class=\"dataframe\">\n",
       "  <thead>\n",
       "    <tr style=\"text-align: right;\">\n",
       "      <th></th>\n",
       "      <th>customerID</th>\n",
       "      <th>gender</th>\n",
       "      <th>SeniorCitizen</th>\n",
       "      <th>Partner</th>\n",
       "      <th>Dependents</th>\n",
       "      <th>tenure</th>\n",
       "      <th>PhoneService</th>\n",
       "      <th>MultipleLines</th>\n",
       "      <th>InternetService</th>\n",
       "      <th>OnlineSecurity</th>\n",
       "      <th>...</th>\n",
       "      <th>DeviceProtection</th>\n",
       "      <th>TechSupport</th>\n",
       "      <th>StreamingTV</th>\n",
       "      <th>StreamingMovies</th>\n",
       "      <th>Contract</th>\n",
       "      <th>PaperlessBilling</th>\n",
       "      <th>PaymentMethod</th>\n",
       "      <th>MonthlyCharges</th>\n",
       "      <th>TotalCharges</th>\n",
       "      <th>Churn</th>\n",
       "    </tr>\n",
       "  </thead>\n",
       "  <tbody>\n",
       "    <tr>\n",
       "      <th>0</th>\n",
       "      <td>7590-VHVEG</td>\n",
       "      <td>Female</td>\n",
       "      <td>0</td>\n",
       "      <td>Yes</td>\n",
       "      <td>No</td>\n",
       "      <td>1</td>\n",
       "      <td>No</td>\n",
       "      <td>No phone service</td>\n",
       "      <td>DSL</td>\n",
       "      <td>No</td>\n",
       "      <td>...</td>\n",
       "      <td>No</td>\n",
       "      <td>No</td>\n",
       "      <td>No</td>\n",
       "      <td>No</td>\n",
       "      <td>Month-to-month</td>\n",
       "      <td>Yes</td>\n",
       "      <td>Electronic check</td>\n",
       "      <td>29.85</td>\n",
       "      <td>29.85</td>\n",
       "      <td>No</td>\n",
       "    </tr>\n",
       "    <tr>\n",
       "      <th>1</th>\n",
       "      <td>5575-GNVDE</td>\n",
       "      <td>Male</td>\n",
       "      <td>0</td>\n",
       "      <td>No</td>\n",
       "      <td>No</td>\n",
       "      <td>34</td>\n",
       "      <td>Yes</td>\n",
       "      <td>No</td>\n",
       "      <td>DSL</td>\n",
       "      <td>Yes</td>\n",
       "      <td>...</td>\n",
       "      <td>Yes</td>\n",
       "      <td>No</td>\n",
       "      <td>No</td>\n",
       "      <td>No</td>\n",
       "      <td>One year</td>\n",
       "      <td>No</td>\n",
       "      <td>Mailed check</td>\n",
       "      <td>56.95</td>\n",
       "      <td>1889.5</td>\n",
       "      <td>No</td>\n",
       "    </tr>\n",
       "    <tr>\n",
       "      <th>2</th>\n",
       "      <td>3668-QPYBK</td>\n",
       "      <td>Male</td>\n",
       "      <td>0</td>\n",
       "      <td>No</td>\n",
       "      <td>No</td>\n",
       "      <td>2</td>\n",
       "      <td>Yes</td>\n",
       "      <td>No</td>\n",
       "      <td>DSL</td>\n",
       "      <td>Yes</td>\n",
       "      <td>...</td>\n",
       "      <td>No</td>\n",
       "      <td>No</td>\n",
       "      <td>No</td>\n",
       "      <td>No</td>\n",
       "      <td>Month-to-month</td>\n",
       "      <td>Yes</td>\n",
       "      <td>Mailed check</td>\n",
       "      <td>53.85</td>\n",
       "      <td>108.15</td>\n",
       "      <td>Yes</td>\n",
       "    </tr>\n",
       "    <tr>\n",
       "      <th>3</th>\n",
       "      <td>7795-CFOCW</td>\n",
       "      <td>Male</td>\n",
       "      <td>0</td>\n",
       "      <td>No</td>\n",
       "      <td>No</td>\n",
       "      <td>45</td>\n",
       "      <td>No</td>\n",
       "      <td>No phone service</td>\n",
       "      <td>DSL</td>\n",
       "      <td>Yes</td>\n",
       "      <td>...</td>\n",
       "      <td>Yes</td>\n",
       "      <td>Yes</td>\n",
       "      <td>No</td>\n",
       "      <td>No</td>\n",
       "      <td>One year</td>\n",
       "      <td>No</td>\n",
       "      <td>Bank transfer (automatic)</td>\n",
       "      <td>42.30</td>\n",
       "      <td>1840.75</td>\n",
       "      <td>No</td>\n",
       "    </tr>\n",
       "    <tr>\n",
       "      <th>4</th>\n",
       "      <td>9237-HQITU</td>\n",
       "      <td>Female</td>\n",
       "      <td>0</td>\n",
       "      <td>No</td>\n",
       "      <td>No</td>\n",
       "      <td>2</td>\n",
       "      <td>Yes</td>\n",
       "      <td>No</td>\n",
       "      <td>Fiber optic</td>\n",
       "      <td>No</td>\n",
       "      <td>...</td>\n",
       "      <td>No</td>\n",
       "      <td>No</td>\n",
       "      <td>No</td>\n",
       "      <td>No</td>\n",
       "      <td>Month-to-month</td>\n",
       "      <td>Yes</td>\n",
       "      <td>Electronic check</td>\n",
       "      <td>70.70</td>\n",
       "      <td>151.65</td>\n",
       "      <td>Yes</td>\n",
       "    </tr>\n",
       "  </tbody>\n",
       "</table>\n",
       "<p>5 rows × 21 columns</p>\n",
       "</div>"
      ],
      "text/plain": [
       "   customerID  gender  SeniorCitizen Partner Dependents  tenure PhoneService  \\\n",
       "0  7590-VHVEG  Female              0     Yes         No       1           No   \n",
       "1  5575-GNVDE    Male              0      No         No      34          Yes   \n",
       "2  3668-QPYBK    Male              0      No         No       2          Yes   \n",
       "3  7795-CFOCW    Male              0      No         No      45           No   \n",
       "4  9237-HQITU  Female              0      No         No       2          Yes   \n",
       "\n",
       "      MultipleLines InternetService OnlineSecurity  ... DeviceProtection  \\\n",
       "0  No phone service             DSL             No  ...               No   \n",
       "1                No             DSL            Yes  ...              Yes   \n",
       "2                No             DSL            Yes  ...               No   \n",
       "3  No phone service             DSL            Yes  ...              Yes   \n",
       "4                No     Fiber optic             No  ...               No   \n",
       "\n",
       "  TechSupport StreamingTV StreamingMovies        Contract PaperlessBilling  \\\n",
       "0          No          No              No  Month-to-month              Yes   \n",
       "1          No          No              No        One year               No   \n",
       "2          No          No              No  Month-to-month              Yes   \n",
       "3         Yes          No              No        One year               No   \n",
       "4          No          No              No  Month-to-month              Yes   \n",
       "\n",
       "               PaymentMethod MonthlyCharges  TotalCharges Churn  \n",
       "0           Electronic check          29.85         29.85    No  \n",
       "1               Mailed check          56.95        1889.5    No  \n",
       "2               Mailed check          53.85        108.15   Yes  \n",
       "3  Bank transfer (automatic)          42.30       1840.75    No  \n",
       "4           Electronic check          70.70        151.65   Yes  \n",
       "\n",
       "[5 rows x 21 columns]"
      ]
     },
     "execution_count": 2,
     "metadata": {},
     "output_type": "execute_result"
    }
   ],
   "source": [
    "telcom = pd.read_csv('WA_Fn-UseC_-Telco-Customer-Churn.csv')\n",
    "telcom.head()"
   ]
  },
  {
   "cell_type": "markdown",
   "metadata": {},
   "source": [
    "## 1.3 Dataset Info"
   ]
  },
  {
   "cell_type": "code",
   "execution_count": 3,
   "metadata": {},
   "outputs": [
    {
     "data": {
      "text/plain": [
       "(7043, 21)"
      ]
     },
     "metadata": {},
     "output_type": "display_data"
    },
    {
     "name": "stdout",
     "output_type": "stream",
     "text": [
      "<class 'pandas.core.frame.DataFrame'>\n",
      "RangeIndex: 7043 entries, 0 to 7042\n",
      "Data columns (total 21 columns):\n",
      "customerID          7043 non-null object\n",
      "gender              7043 non-null object\n",
      "SeniorCitizen       7043 non-null int64\n",
      "Partner             7043 non-null object\n",
      "Dependents          7043 non-null object\n",
      "tenure              7043 non-null int64\n",
      "PhoneService        7043 non-null object\n",
      "MultipleLines       7043 non-null object\n",
      "InternetService     7043 non-null object\n",
      "OnlineSecurity      7043 non-null object\n",
      "OnlineBackup        7043 non-null object\n",
      "DeviceProtection    7043 non-null object\n",
      "TechSupport         7043 non-null object\n",
      "StreamingTV         7043 non-null object\n",
      "StreamingMovies     7043 non-null object\n",
      "Contract            7043 non-null object\n",
      "PaperlessBilling    7043 non-null object\n",
      "PaymentMethod       7043 non-null object\n",
      "MonthlyCharges      7043 non-null float64\n",
      "TotalCharges        7043 non-null object\n",
      "Churn               7043 non-null object\n",
      "dtypes: float64(1), int64(2), object(18)\n",
      "memory usage: 1.1+ MB\n"
     ]
    },
    {
     "data": {
      "text/plain": [
       "None"
      ]
     },
     "metadata": {},
     "output_type": "display_data"
    }
   ],
   "source": [
    "display(telcom.shape)\n",
    "display(telcom.info())"
   ]
  },
  {
   "cell_type": "markdown",
   "metadata": {},
   "source": [
    "## 1.4 Initial Data Processing"
   ]
  },
  {
   "cell_type": "code",
   "execution_count": 4,
   "metadata": {},
   "outputs": [],
   "source": [
    "# Reassign target\n",
    "telcom.Churn.replace(to_replace = dict(Yes = 1, No = 0), inplace = True)\n",
    "\n",
    "# Encode as object\n",
    "col_name = ['SeniorCitizen', 'Churn']\n",
    "telcom[col_name] = telcom[col_name].astype(object)\n",
    "\n",
    "# Encode as float\n",
    "telcom['TotalCharges'] = telcom['TotalCharges'].replace(\" \", 0).astype('float64')"
   ]
  },
  {
   "cell_type": "markdown",
   "metadata": {},
   "source": [
    "# 2. Feature Engineering and Selection"
   ]
  },
  {
   "cell_type": "markdown",
   "metadata": {},
   "source": [
    "## 2.1 New Features"
   ]
  },
  {
   "cell_type": "code",
   "execution_count": 5,
   "metadata": {},
   "outputs": [],
   "source": [
    "telcom.loc[:,'Engaged']=1 \n",
    "telcom.loc[(telcom['Contract']=='Month-to-month'),'Engaged']=0\n",
    "\n",
    "telcom.loc[:,'YandNotE']=0\n",
    "telcom.loc[(telcom['SeniorCitizen']==0) & (telcom['Engaged']==0),'YandNotE']=1\n",
    "\n",
    "telcom.loc[:,'ElectCheck']=0 \n",
    "telcom.loc[(telcom['PaymentMethod']=='Electronic check') & (telcom['Engaged']==0),'ElectCheck']=1\n",
    "\n",
    "telcom.loc[:,'fiberopt']=1 \n",
    "telcom.loc[(telcom['InternetService']!='Fiber optic'),'fiberopt']=0\n",
    "\n",
    "telcom.loc[:,'StreamNoInt']=1 \n",
    "telcom.loc[(telcom['StreamingTV']!='No internet service'),'StreamNoInt']=0\n",
    "\n",
    "telcom.loc[:,'NoProt']=1 \n",
    "telcom.loc[(telcom['OnlineBackup']!='No') | (telcom['DeviceProtection']!='No') | (telcom['TechSupport']!='No'),'NoProt']=0\n",
    "\n",
    "telcom['TotalServices'] = (telcom[['PhoneService', 'InternetService', 'OnlineSecurity', 'OnlineBackup', 'DeviceProtection', 'TechSupport', 'StreamingTV', 'StreamingMovies']]== 'Yes').sum(axis=1)"
   ]
  },
  {
   "cell_type": "code",
   "execution_count": 6,
   "metadata": {},
   "outputs": [],
   "source": [
    "telcom['tenure'] = pd.cut(telcom['tenure'], 5)"
   ]
  },
  {
   "cell_type": "markdown",
   "metadata": {},
   "source": [
    "## 2.2 Drop Irrelavant Features"
   ]
  },
  {
   "cell_type": "code",
   "execution_count": 7,
   "metadata": {},
   "outputs": [],
   "source": [
    "telcom = telcom.drop(columns = [\n",
    "                            'Contract',\n",
    "                            'DeviceProtection', \n",
    "                            'Partner'\n",
    "                           ])"
   ]
  },
  {
   "cell_type": "markdown",
   "metadata": {},
   "source": [
    "## 2.3 Feature encoding and scaling"
   ]
  },
  {
   "cell_type": "code",
   "execution_count": 8,
   "metadata": {},
   "outputs": [],
   "source": [
    "#customer id col\n",
    "Id_col     = ['customerID']\n",
    "#Target columns\n",
    "target_col = [\"Churn\"]\n",
    "#categorical columns\n",
    "cat_cols   = telcom.nunique()[telcom.nunique() < 10].keys().tolist()\n",
    "cat_cols   = [x for x in cat_cols if x not in target_col]\n",
    "#numerical columns\n",
    "num_cols   = [x for x in telcom.columns if x not in cat_cols + target_col + Id_col]\n",
    "#Binary columns with 2 values\n",
    "bin_cols   = telcom.nunique()[telcom.nunique() == 2].keys().tolist()\n",
    "#Columns more than 2 values\n",
    "multi_cols = [i for i in cat_cols if i not in bin_cols]\n",
    "\n",
    "#Label encoding Binary columns\n",
    "le = LabelEncoder()\n",
    "for i in bin_cols :\n",
    "    telcom[i] = le.fit_transform(telcom[i])\n",
    "    \n",
    "#Duplicating columns for multi value columns\n",
    "telcom = pd.get_dummies(data = telcom,columns = multi_cols )\n",
    "\n",
    "#Scaling Numerical columns\n",
    "std = StandardScaler()\n",
    "scaled = std.fit_transform(telcom[num_cols])\n",
    "scaled = pd.DataFrame(scaled,columns=num_cols)\n",
    "\n",
    "#dropping original values merging scaled values for numerical columns\n",
    "df_telcom_og = telcom.copy()\n",
    "telcom = telcom.drop(columns = num_cols,axis = 1)\n",
    "telcom = telcom.merge(scaled,left_index=True,right_index=True,how = \"left\")\n",
    "telcom = telcom.drop(['customerID'],axis = 1)"
   ]
  },
  {
   "cell_type": "markdown",
   "metadata": {},
   "source": [
    "## 2.4 Correlation Matrix"
   ]
  },
  {
   "cell_type": "code",
   "execution_count": 9,
   "metadata": {},
   "outputs": [],
   "source": [
    "def correlation_plot():\n",
    "    #correlation\n",
    "    correlation = telcom.corr()\n",
    "    #tick labels\n",
    "    matrix_cols = correlation.columns.tolist()\n",
    "    #convert to array\n",
    "    corr_array  = np.array(correlation)\n",
    "    trace = go.Heatmap(z = corr_array,\n",
    "                       x = matrix_cols,\n",
    "                       y = matrix_cols,\n",
    "                       colorscale='Viridis',\n",
    "                       colorbar   = dict() ,\n",
    "                      )\n",
    "    layout = go.Layout(dict(title = 'Correlation Matrix for variables',\n",
    "                            #autosize = False,\n",
    "                            #height  = 1400,\n",
    "                            #width   = 1600,\n",
    "                            margin  = dict(r = 0 ,l = 210,\n",
    "                                           t = 25,b = 210,\n",
    "                                         ),\n",
    "                            yaxis   = dict(tickfont = dict(size = 9)),\n",
    "                            xaxis   = dict(tickfont = dict(size = 9)),\n",
    "                           )\n",
    "                      )\n",
    "    fig = go.Figure(data = [trace],layout = layout)\n",
    "    py.iplot(fig)"
   ]
  },
  {
   "cell_type": "markdown",
   "metadata": {},
   "source": [
    "## 2.5 Remove Collinear Features"
   ]
  },
  {
   "cell_type": "code",
   "execution_count": 10,
   "metadata": {},
   "outputs": [
    {
     "name": "stdout",
     "output_type": "stream",
     "text": [
      "There are 8 columns to remove :\n"
     ]
    },
    {
     "data": {
      "text/plain": [
       "['MultipleLines_No phone service',\n",
       " 'InternetService_Fiber optic',\n",
       " 'InternetService_No',\n",
       " 'OnlineSecurity_No internet service',\n",
       " 'OnlineBackup_No internet service',\n",
       " 'TechSupport_No internet service',\n",
       " 'StreamingTV_No internet service',\n",
       " 'StreamingMovies_No internet service']"
      ]
     },
     "execution_count": 10,
     "metadata": {},
     "output_type": "execute_result"
    }
   ],
   "source": [
    "#Threshold for removing correlated variables\n",
    "threshold = 0.9\n",
    "\n",
    "# Absolute value correlation matrix\n",
    "corr_matrix = telcom.corr().abs()\n",
    "corr_matrix.head()\n",
    "\n",
    "# Upper triangle of correlations\n",
    "upper = corr_matrix.where(np.triu(np.ones(corr_matrix.shape), k=1).astype(np.bool))\n",
    "upper.head()\n",
    "\n",
    "# Select columns with correlations above threshold\n",
    "to_drop = [column for column in upper.columns if any(upper[column] > threshold)]\n",
    "\n",
    "print('There are %d columns to remove :' % (len(to_drop)))\n",
    "\n",
    "telcom = telcom.drop(columns = to_drop)\n",
    "\n",
    "to_drop"
   ]
  },
  {
   "cell_type": "code",
   "execution_count": 11,
   "metadata": {},
   "outputs": [
    {
     "data": {
      "application/vnd.plotly.v1+json": {
       "config": {
        "linkText": "Export to plot.ly",
        "plotlyServerURL": "https://plot.ly",
        "showLink": false
       },
       "data": [
        {
         "colorscale": [
          [
           0,
           "#440154"
          ],
          [
           0.1111111111111111,
           "#482878"
          ],
          [
           0.2222222222222222,
           "#3e4989"
          ],
          [
           0.3333333333333333,
           "#31688e"
          ],
          [
           0.4444444444444444,
           "#26828e"
          ],
          [
           0.5555555555555556,
           "#1f9e89"
          ],
          [
           0.6666666666666666,
           "#35b779"
          ],
          [
           0.7777777777777778,
           "#6ece58"
          ],
          [
           0.8888888888888888,
           "#b5de2b"
          ],
          [
           1,
           "#fde725"
          ]
         ],
         "type": "heatmap",
         "x": [
          "gender",
          "SeniorCitizen",
          "Dependents",
          "PhoneService",
          "PaperlessBilling",
          "Churn",
          "Engaged",
          "YandNotE",
          "ElectCheck",
          "fiberopt",
          "StreamNoInt",
          "NoProt",
          "tenure_(-0.072, 14.4]",
          "tenure_(14.4, 28.8]",
          "tenure_(28.8, 43.2]",
          "tenure_(43.2, 57.6]",
          "tenure_(57.6, 72.0]",
          "MultipleLines_No",
          "MultipleLines_Yes",
          "InternetService_DSL",
          "OnlineSecurity_No",
          "OnlineSecurity_Yes",
          "OnlineBackup_No",
          "OnlineBackup_Yes",
          "TechSupport_No",
          "TechSupport_Yes",
          "StreamingTV_No",
          "StreamingTV_Yes",
          "StreamingMovies_No",
          "StreamingMovies_Yes",
          "PaymentMethod_Bank transfer (automatic)",
          "PaymentMethod_Credit card (automatic)",
          "PaymentMethod_Electronic check",
          "PaymentMethod_Mailed check",
          "TotalServices_0",
          "TotalServices_1",
          "TotalServices_2",
          "TotalServices_3",
          "TotalServices_4",
          "TotalServices_5",
          "TotalServices_6",
          "TotalServices_7",
          "MonthlyCharges",
          "TotalCharges"
         ],
         "y": [
          "gender",
          "SeniorCitizen",
          "Dependents",
          "PhoneService",
          "PaperlessBilling",
          "Churn",
          "Engaged",
          "YandNotE",
          "ElectCheck",
          "fiberopt",
          "StreamNoInt",
          "NoProt",
          "tenure_(-0.072, 14.4]",
          "tenure_(14.4, 28.8]",
          "tenure_(28.8, 43.2]",
          "tenure_(43.2, 57.6]",
          "tenure_(57.6, 72.0]",
          "MultipleLines_No",
          "MultipleLines_Yes",
          "InternetService_DSL",
          "OnlineSecurity_No",
          "OnlineSecurity_Yes",
          "OnlineBackup_No",
          "OnlineBackup_Yes",
          "TechSupport_No",
          "TechSupport_Yes",
          "StreamingTV_No",
          "StreamingTV_Yes",
          "StreamingMovies_No",
          "StreamingMovies_Yes",
          "PaymentMethod_Bank transfer (automatic)",
          "PaymentMethod_Credit card (automatic)",
          "PaymentMethod_Electronic check",
          "PaymentMethod_Mailed check",
          "TotalServices_0",
          "TotalServices_1",
          "TotalServices_2",
          "TotalServices_3",
          "TotalServices_4",
          "TotalServices_5",
          "TotalServices_6",
          "TotalServices_7",
          "MonthlyCharges",
          "TotalCharges"
         ],
         "z": [
          [
           1,
           -0.0018737116382603585,
           0.010516611922734686,
           -0.006487672136207867,
           -0.011753691221221238,
           -0.008612095078997463,
           0.0033859456136262796,
           -0.0037759984925327455,
           -0.0069688154692139435,
           -0.011286442720116788,
           0.006025751154069604,
           0.0034135357041748028,
           -0.006476741933005745,
           0.004373518452120793,
           -0.002619065948279373,
           -0.007495610869791519,
           0.011727814402547398,
           0.004476122373779718,
           -0.00841365587151559,
           0.006567778691102118,
           0.01042908841920113,
           -0.017020796813958704,
           0.008190988066357157,
           -0.01377318872900596,
           0.0033971478097872105,
           -0.009211760356587549,
           0.0032674444881383704,
           -0.008392549998355633,
           0.005374329036311909,
           -0.010487356300499686,
           -0.016023595160041378,
           0.0012147794729686294,
           0.0007521807011949914,
           0.013744173305345336,
           0.012379399525304997,
           0.006565467664951225,
           0.0010289440492884218,
           -0.0011614404834415237,
           0.0055143952407482695,
           0.0022639248556893103,
           -0.01729639977578561,
           -0.013175503226569995,
           -0.014569323728666463,
           -8.030345627875773e-05
          ],
          [
           -0.0018737116382603585,
           1,
           -0.21118508849394904,
           0.008576401079278321,
           0.15652955931114873,
           0.15088932817647296,
           -0.13836046440262936,
           -0.38648207463593376,
           0.18646799581651802,
           0.25533777295512944,
           -0.18274172290672117,
           0.10504064554292525,
           -0.028082451970205216,
           0.007801949326426613,
           0.01733765775916489,
           0.016313272468850344,
           -0.0028037203001791563,
           -0.13621309673895696,
           0.14294817476275615,
           -0.10832221369857437,
           0.18553213243210376,
           -0.03865270449719614,
           0.08795164806617205,
           0.06657213514513345,
           0.20562007664086115,
           -0.06062459069356379,
           0.049061697629495186,
           0.1053776678428196,
           0.03420956058873309,
           0.12017625118896011,
           -0.016158940862199146,
           -0.0241353723603211,
           0.17171777869091615,
           -0.15347749042895084,
           0.003737829352344746,
           -0.12249087328076257,
           0.041458539362045944,
           0.0468947440188713,
           0.050380133405656,
           0.02980114153575734,
           0.0027469138007307934,
           -0.014319252399392659,
           0.22017333857626337,
           0.10300618407952136
          ],
          [
           0.010516611922734686,
           -0.21118508849394904,
           1,
           -0.0017616785446833952,
           -0.11137722919362898,
           -0.16422140157973802,
           0.23172016612971874,
           -0.11198227977670865,
           -0.16990730376707536,
           -0.16581835875542186,
           0.13981188531169106,
           -0.13602065434942082,
           -0.1386091715362487,
           -0.001975973524730626,
           0.015797636062166,
           0.03478948852445199,
           0.11637446553365939,
           0.023198487672255422,
           -0.024525804414101075,
           0.052010348064670545,
           -0.18843382069111725,
           0.0809716602324878,
           -0.1387564851212686,
           0.023671013010513185,
           -0.1726445096177079,
           0.06326814139964838,
           -0.10117591361448183,
           -0.016557742951036198,
           -0.07819808202669813,
           -0.039740962058925404,
           0.05202098094740329,
           0.06026700017637367,
           -0.15064248847911435,
           0.05907101281466968,
           -0.023303211243906045,
           0.05916129080173914,
           -0.08485229643715717,
           -0.04792181740961563,
           -0.013133748883376253,
           0.029116685539573493,
           0.02916790813972577,
           0.04842990069632624,
           -0.11389023002193659,
           0.06207819481604459
          ],
          [
           -0.006487672136207867,
           0.008576401079278321,
           -0.0017616785446833952,
           1,
           0.016504805732567716,
           0.011941980029002547,
           0.0007424302790417011,
           8.317719019653056e-05,
           0.004519193677139973,
           0.2899989345730554,
           0.17220876982804517,
           -0.018997059796347495,
           -0.010573531064008643,
           0.0144559537770293,
           -0.012757121366933445,
           -0.0074568321728636505,
           0.015894875009399484,
           0.31543109424025745,
           0.27968999474292017,
           -0.452425489961283,
           -0.05787969996011212,
           -0.09289270011220115,
           -0.09286669818148435,
           -0.052312242947634764,
           -0.05444676293913726,
           -0.09633961826825559,
           -0.12245547899852695,
           -0.02257359179493519,
           -0.11225408873033375,
           -0.03295889236478296,
           0.00755621292514459,
           -0.007721160009098325,
           0.0030618298454302066,
           -0.0033187895436075847,
           -0.3273537394642321,
           0.10722156265910057,
           -0.0655219092521565,
           -0.06925739660285136,
           0.009173738601398498,
           0.01354416083530414,
           0.047230224853350544,
           0.06397885330677887,
           0.24739796321412494,
           0.11321354444457048
          ],
          [
           -0.011753691221221238,
           0.15652955931114873,
           -0.11137722919362898,
           0.016504805732567716,
           1,
           0.19182533166644541,
           -0.16909644687220246,
           0.07054898372686831,
           0.1978725625678542,
           0.32685324851959013,
           -0.3210130652332027,
           0.11736311691266421,
           -0.0031498193854710126,
           -0.0030263991648078617,
           0.010224948981790823,
           -0.008326689425064124,
           0.004490858801717905,
           -0.15186361470687518,
           0.16353017421289867,
           -0.0631210849300296,
           0.26779314581033625,
           -0.0036358971484736916,
           0.1451204561734168,
           0.12673537300695792,
           0.23013613487107135,
           0.03787990020728005,
           0.04771151266520775,
           0.22384098246008893,
           0.059487769080054306,
           0.21171599176513312,
           -0.016332203527892688,
           -0.013588829059283302,
           0.20886475546714192,
           -0.2053980051888406,
           -0.006482307788873072,
           -0.25103911008484847,
           0.06811636295290968,
           0.06879036751956709,
           0.08240723181194681,
           0.07021607444323133,
           0.05839553030922403,
           0.011690553488378413,
           0.35214996779595914,
           0.15857437033153196
          ],
          [
           -0.008612095078997463,
           0.15088932817647296,
           -0.16422140157973802,
           0.011941980029002547,
           0.19182533166644541,
           1,
           -0.40510291068797993,
           0.2593196983550145,
           0.36759495385963603,
           0.3080197449448075,
           -0.22789044975610792,
           0.30256479344648624,
           0.31970032137696436,
           -0.0033399715841475157,
           -0.04392017182717854,
           -0.10303468526773615,
           -0.23681565708091676,
           -0.03256857845018864,
           0.04010212769982239,
           -0.12421382390258645,
           0.34263679985111534,
           -0.17122629194853634,
           0.26800518096235426,
           -0.08225486893813826,
           0.3372807277351956,
           -0.16467355590159904,
           0.12891588111511512,
           0.06322774611875473,
           0.13084502938617007,
           0.06138154801518815,
           -0.11793667192853156,
           -0.13430175066263256,
           0.301918749011285,
           -0.09168283858843226,
           0.0417872235214099,
           -0.07575363536722006,
           0.155680297123726,
           0.07679023385680821,
           0.006449789575471183,
           -0.03742049943688946,
           -0.08976780537227952,
           -0.09180583874167608,
           0.19335642223784563,
           -0.19832426260399502
          ],
          [
           0.0033859456136262796,
           -0.13836046440262936,
           0.23172016612971874,
           0.0007424302790417011,
           -0.16909644687220246,
           -0.40510291068797993,
           1,
           -0.7943572143900955,
           -0.5396764113322096,
           -0.24416415597397462,
           0.21863876616156266,
           -0.40101731119036316,
           -0.5003826269128525,
           -0.11797134110707774,
           0.020652268384748255,
           0.18826740425717803,
           0.49602713751514266,
           -0.08674010596728214,
           0.08820313233781159,
           0.06550876072359825,
           -0.403255273689533,
           0.2466788676313635,
           -0.33879627049374006,
           0.16417233309253518,
           -0.4391098285439591,
           0.285241310295581,
           -0.2954791429870141,
           0.11228242714591914,
           -0.30045652081397656,
           0.11663335681857676,
           0.1797068873575995,
           0.2041449607569331,
           -0.3316614848172629,
           -0.004138055475923,
           -0.08345125478939242,
           0.011370248252041972,
           -0.26457227714719495,
           -0.14897561490497432,
           0.0018373011133035447,
           0.16402600888662816,
           0.21716905641739878,
           0.20244942974883903,
           -0.060165327127736146,
           0.4442549080768271
          ],
          [
           -0.0037759984925327455,
           -0.38648207463593376,
           -0.11198227977670865,
           8.317719019653056e-05,
           0.07054898372686831,
           0.2593196983550145,
           -0.7943572143900955,
           1,
           0.3455895208719733,
           0.08270487374714874,
           -0.10616641666135203,
           0.2837703870408468,
           0.4569966189355769,
           0.08555961408126313,
           -0.0468305144865679,
           -0.16999543741146556,
           -0.4121014235344056,
           0.1480239753111587,
           -0.14971215930677137,
           0.005660444125169474,
           0.25499666751991884,
           -0.1852203724708992,
           0.24286410160126923,
           -0.1615100890834317,
           0.2686986251715219,
           -0.1996169203180482,
           0.22977691895639601,
           -0.1413963125774446,
           0.24353328176785388,
           -0.1546072637390206,
           -0.13537044770465342,
           -0.16001827896531148,
           0.1860144650409409,
           0.08097376947436312,
           0.07066593463010724,
           0.042097274249217186,
           0.2047351332501563,
           0.09563502986845167,
           -0.027701907406468326,
           -0.14165463465717823,
           -0.17628754524548398,
           -0.16252987019400117,
           -0.04807472584954417,
           -0.41370658382686365
          ],
          [
           -0.0069688154692139435,
           0.18646799581651802,
           -0.16990730376707536,
           0.004519193677139973,
           0.1978725625678542,
           0.36759495385963603,
           -0.5396764113322096,
           0.3455895208719733,
           1,
           0.3209598344730554,
           -0.2598720924718915,
           0.32697934516158655,
           0.28073924885414175,
           0.04686067541919682,
           -0.007227317199134075,
           -0.10473962557318897,
           -0.26575605107572553,
           -0.032581664872847,
           0.03567042028130932,
           -0.10999570137075108,
           0.3679180822128539,
           -0.1700425723029652,
           0.2782024599710312,
           -0.06518085660626195,
           0.3812169895970963,
           -0.18404154350937527,
           0.1633226988166017,
           0.055677066527380616,
           0.16658521231949475,
           0.052558453850650326,
           -0.31627035864584196,
           -0.3133827992758065,
           0.8394430525077718,
           -0.32517662576923606,
           0.03649236304117364,
           -0.11399150577550836,
           0.19478900063201443,
           0.12959306579769897,
           0.030692391799061986,
           -0.07539538053836137,
           -0.11657494942361593,
           -0.10976592185088259,
           0.20289280324010792,
           -0.21287506481300217
          ],
          [
           -0.011286442720116788,
           0.25533777295512944,
           -0.16581835875542186,
           0.2899989345730554,
           0.32685324851959013,
           0.3080197449448075,
           -0.24416415597397462,
           0.08270487374714874,
           0.3209598344730554,
           1,
           -0.4657927104460395,
           0.20847149330644643,
           -0.024369565426564956,
           2.0946322459738306e-05,
           0.012556689338706347,
           0.008983012006417846,
           0.009719383736093047,
           -0.19019164164266983,
           0.3660832496117892,
           -0.6409871702805158,
           0.41156075490341365,
           -0.03069571096235206,
           0.22804703338286397,
           0.16565089083393386,
           0.40242972350684364,
           -0.020492402500577954,
           0.06470665733452634,
           0.3293485259115254,
           0.07064998669449263,
           0.32292269808483876,
           -0.022624012243866037,
           -0.05007665545044517,
           0.3364097780255705,
           -0.30683412957623935,
           -0.09493223567314706,
           -0.36269892922339564,
           0.09291088242765538,
           0.09784506021534964,
           0.14082589931554837,
           0.11504311304083624,
           0.06449678742531297,
           0.041262807674613815,
           0.787065528472674,
           0.36165543578004794
          ],
          [
           0.006025751154069604,
           -0.18274172290672117,
           0.13981188531169106,
           0.17220876982804517,
           -0.3210130652332027,
           -0.22789044975610792,
           0.21863876616156266,
           -0.10616641666135203,
           -0.2598720924718915,
           -0.4657927104460395,
           1,
           -0.28226160126279404,
           0.02718698874098419,
           0.018836681679540078,
           -0.015163315124182841,
           -0.008269526007885337,
           -0.02777089198151765,
           0.31004604059739277,
           -0.21056352377914278,
           -0.3806345434753767,
           -0.5224293380827663,
           -0.333402704896457,
           -0.4647198001961842,
           -0.3815932968077265,
           -0.5187332164827466,
           -0.3362982846984971,
           -0.4285039212787635,
           -0.415551893880319,
           -0.42533933333412005,
           -0.4186750789702281,
           -0.0021133998738822233,
           0.0010297293228975783,
           -0.2849166458500381,
           0.32136073231782275,
           -0.056373184771759594,
           0.7668544386616538,
           -0.21344474145081338,
           -0.21902976845023278,
           -0.22161601024175392,
           -0.19183287106590452,
           -0.14926165353562226,
           -0.10276204475324274,
           -0.7635565582866174,
           -0.3752228425945346
          ],
          [
           0.0034135357041748028,
           0.10504064554292525,
           -0.13602065434942082,
           -0.018997059796347495,
           0.11736311691266421,
           0.30256479344648624,
           -0.40101731119036316,
           0.2837703870408468,
           0.32697934516158655,
           0.20847149330644643,
           -0.28226160126279404,
           1,
           0.34163673912417253,
           0.01877870116466811,
           -0.05999247344148079,
           -0.11863899063169107,
           -0.2548314546159453,
           0.03267203294663215,
           -0.04443155260884424,
           0.02697659698250772,
           0.3303753426802053,
           -0.10813507717695882,
           0.6073801915554752,
           -0.38940452013714844,
           0.5441363542836422,
           -0.34318231811587846,
           0.320523095007404,
           -0.08361034939463914,
           0.3172420247018443,
           -0.07968504899074658,
           -0.09083024163219618,
           -0.1327641737301977,
           0.24180359927056969,
           -0.05230502379802956,
           0.19971963780961163,
           0.11701347043966569,
           0.28385920165104506,
           0.030920994519849657,
           -0.17568289450514196,
           -0.19575969423168874,
           -0.15231704292540862,
           -0.10486558611016054,
           0.05357574603657979,
           -0.2843863431108611
          ],
          [
           -0.006476741933005745,
           -0.028082451970205216,
           -0.1386091715362487,
           -0.010573531064008643,
           -0.0031498193854710126,
           0.31970032137696436,
           -0.5003826269128525,
           0.4569966189355769,
           0.28073924885414175,
           -0.024369565426564956,
           0.02718698874098419,
           0.34163673912417253,
           1,
           -0.31076547958311357,
           -0.2879329040028446,
           -0.2807804529340981,
           -0.38779967915988406,
           0.2608400716621851,
           -0.2702343619257793,
           0.0018846817332426307,
           0.20155798937014976,
           -0.24762471597817862,
           0.2358114553762946,
           -0.2697271926423418,
           0.20001980379673287,
           -0.24500983247685743,
           0.19758375866034714,
           -0.22192736254352521,
           0.19629732377483042,
           -0.21995601146553345,
           -0.19519784741460172,
           -0.19007488309148807,
           0.1697586261643762,
           0.18761158051726598,
           0.09659345477820513,
           0.2161379719388725,
           0.17736817689983939,
           0.012318717999428143,
           -0.12218255626541366,
           -0.18704411408727314,
           -0.1815884276698723,
           -0.13600141475544186,
           -0.19582433336061164,
           -0.6167194058801695
          ],
          [
           0.004373518452120793,
           0.007801949326426613,
           -0.001975973524730626,
           0.0144559537770293,
           -0.0030263991648078617,
           -0.0033399715841475157,
           -0.11797134110707774,
           0.08555961408126313,
           0.04686067541919682,
           2.0946322459738306e-05,
           0.018836681679540078,
           0.01877870116466811,
           -0.31076547958311357,
           1,
           -0.17631747106914394,
           -0.17193762400458545,
           -0.2374715003403191,
           0.04964241569727663,
           -0.04156870017374388,
           -0.01636071308730674,
           0.030031052519282238,
           -0.05036530207033401,
           0.05255070406496863,
           -0.07118376606626711,
           0.033130451391823856,
           -0.05359310103750621,
           0.03224035050137402,
           -0.048408572987857175,
           0.03862592342678353,
           -0.0546842132300993,
           -0.025140232705352674,
           -0.02290132455824974,
           0.008117638924841854,
           0.03806885851394966,
           -0.010199981492044654,
           -0.0018260591038288937,
           0.05088224602947971,
           0.09013365837721282,
           -0.001935029519759424,
           -0.03636436753614885,
           -0.0795548670402933,
           -0.07700256690669278,
           -0.042475593710870674,
           -0.18590643057540746
          ],
          [
           -0.002619065948279373,
           0.01733765775916489,
           0.015797636062166,
           -0.012757121366933445,
           0.010224948981790823,
           -0.04392017182717854,
           0.020652268384748255,
           -0.0468305144865679,
           -0.007227317199134075,
           0.012556689338706347,
           -0.015163315124182841,
           -0.05999247344148079,
           -0.2879329040028446,
           -0.17631747106914394,
           1,
           -0.15930501500168706,
           -0.22002398336721132,
           -0.0441960711300367,
           0.037075711226447455,
           3.066493172511673e-05,
           0.008827582470836889,
           0.004053951405676194,
           0.00442565204519221,
           0.008522326596388876,
           -0.0062856290166645535,
           0.020687819837708565,
           -0.0221902546317786,
           0.03518037984070831,
           -0.007588065258819613,
           0.020434237980508696,
           0.003147859920735817,
           0.017154015612903972,
           0.009431756094916097,
           -0.030508476296892316,
           -0.012471391390905407,
           -0.06165918292646342,
           -0.0010103107809098669,
           0.02282225121920131,
           0.0809385837970146,
           0.022685934038753474,
           -0.016683332058846572,
           -0.05074538674253275,
           0.02577924604537384,
           0.0193913763200881
          ],
          [
           -0.007495610869791519,
           0.016313272468850344,
           0.03478948852445199,
           -0.0074568321728636505,
           -0.008326689425064124,
           -0.10303468526773615,
           0.18826740425717803,
           -0.16999543741146556,
           -0.10473962557318897,
           0.008983012006417846,
           -0.008269526007885337,
           -0.11863899063169107,
           -0.2807804529340981,
           -0.17193762400458545,
           -0.15930501500168706,
           1,
           -0.21455843652243517,
           -0.062322487974021096,
           0.058588899462537036,
           -0.0022144270021047315,
           -0.05272560841686357,
           0.06583089936491515,
           -0.0765065957659035,
           0.08703263664894345,
           -0.03994130191264065,
           0.051503693520811564,
           -0.055952468059952784,
           0.06332944136390083,
           -0.06594480192356114,
           0.07316249386798748,
           0.07282796695978384,
           0.04383851247315141,
           -0.04582424842161956,
           -0.0631556113132487,
           -0.03831982626084121,
           -0.06329795037533419,
           -0.08351679862821353,
           -0.0011405642175600142,
           0.08979444011627055,
           0.07990114613982839,
           0.03392441136949232,
           -0.01951577491141036,
           0.05328022161939752,
           0.2117196533061629
          ],
          [
           0.011727814402547398,
           -0.0028037203001791563,
           0.11637446553365939,
           0.015894875009399484,
           0.004490858801717905,
           -0.23681565708091676,
           0.49602713751514266,
           -0.4121014235344056,
           -0.26575605107572553,
           0.009719383736093047,
           -0.02777089198151765,
           -0.2548314546159453,
           -0.38779967915988406,
           -0.2374715003403191,
           -0.22002398336721132,
           -0.21455843652243517,
           1,
           -0.24966378575342216,
           0.26211340395738203,
           0.013931422052366456,
           -0.21750073299516076,
           0.26578406706936447,
           -0.25274013543271673,
           0.28790513721671834,
           -0.21635674021555115,
           0.26353581036214885,
           -0.18667260181315184,
           0.21143790939575402,
           -0.19476126946056702,
           0.21890836611027825,
           0.17983618375166602,
           0.18407993159451083,
           -0.16869722722569688,
           -0.16780349244112444,
           -0.058349868469251207,
           -0.13919934287022367,
           -0.17532290463903555,
           -0.11048172247759983,
           -0.0007263338782098415,
           0.15854534498198886,
           0.2600231187279581,
           0.2780899959768306,
           0.19282697412513186,
           0.6682265637593973
          ],
          [
           0.004476122373779718,
           -0.13621309673895696,
           0.023198487672255422,
           0.31543109424025745,
           -0.15186361470687518,
           -0.03256857845018864,
           -0.08674010596728214,
           0.1480239753111587,
           -0.032581664872847,
           -0.19019164164266983,
           0.31004604059739277,
           0.03267203294663215,
           0.2608400716621851,
           0.04964241569727663,
           -0.0441960711300367,
           -0.062322487974021096,
           -0.24966378575342216,
           1,
           -0.8228533739769971,
           -0.07017933361588229,
           -0.11803967172970328,
           -0.1519504841683278,
           -0.036276537396139424,
           -0.23085237242152853,
           -0.1134822345257722,
           -0.15642521492470993,
           0.004912604988265538,
           -0.2675281328562756,
           0.01307605676809046,
           -0.27525622600611316,
           -0.07017770331025897,
           -0.06392145833871449,
           -0.08083556522609313,
           0.222605254379153,
           -0.10325754824285079,
           0.30618054408245665,
           0.010272534618772965,
           -0.038483515670520774,
           -0.09622410552600613,
           -0.12098527407169751,
           -0.10461943753288547,
           -0.11122353939544416,
           -0.33831372903110696,
           -0.3960585159876681
          ],
          [
           -0.00841365587151559,
           0.14294817476275615,
           -0.024525804414101075,
           0.27968999474292017,
           0.16353017421289867,
           0.04010212769982239,
           0.08820313233781159,
           -0.14971215930677137,
           0.03567042028130932,
           0.3660832496117892,
           -0.21056352377914278,
           -0.04443155260884424,
           -0.2702343619257793,
           -0.04156870017374388,
           0.037075711226447455,
           0.058588899462537036,
           0.26211340395738203,
           -0.8228533739769971,
           1,
           -0.1999202093533399,
           0.08476581836042205,
           0.09810813969724957,
           -0.018908397931387724,
           0.20223701632048843,
           0.08221059829549753,
           0.10057130998574261,
           -0.0782996455466118,
           0.25715163510819916,
           -0.0804501027578153,
           0.25875149199378983,
           0.07552652675122472,
           0.06004835777743914,
           0.08361817831666819,
           -0.22720630042804055,
           -0.09155756566983209,
           -0.24556858340102392,
           -0.049629282282999274,
           -0.002537674958456383,
           0.1028473616097888,
           0.13051637483341372,
           0.13413042798589525,
           0.15084156222158607,
           0.49043396944000867,
           0.46850381616364334
          ],
          [
           0.006567778691102118,
           -0.10832221369857437,
           0.052010348064670545,
           -0.452425489961283,
           -0.0631210849300296,
           -0.12421382390258645,
           0.06550876072359825,
           0.005660444125169474,
           -0.10999570137075108,
           -0.6409871702805158,
           -0.3806345434753767,
           0.02697659698250772,
           0.0018846817332426307,
           -0.01636071308730674,
           3.066493172511673e-05,
           -0.0022144270021047315,
           0.013931422052366456,
           -0.07017933361588229,
           -0.1999202093533399,
           1,
           0.023065732064935042,
           0.3212689079448847,
           0.1647830436719273,
           0.15788439397403897,
           0.0294017846056387,
           0.3131179268609463,
           0.3040624179005031,
           0.01627372679457073,
           0.29510661726278103,
           0.02569783199417058,
           0.025475536146245106,
           0.05143757263283329,
           -0.10441759819553018,
           0.041899281981820136,
           0.14810317596777198,
           -0.2861398286788709,
           0.08804760377321166,
           0.08773574275270929,
           0.04506349963695784,
           0.04617313025748473,
           0.06206867835015082,
           0.046015008372748904,
           -0.1601893262044364,
           -0.05246858799893648
          ],
          [
           0.01042908841920113,
           0.18553213243210376,
           -0.18843382069111725,
           -0.05787969996011212,
           0.26779314581033625,
           0.34263679985111534,
           -0.403255273689533,
           0.25499666751991884,
           0.3679180822128539,
           0.41156075490341365,
           -0.5224293380827663,
           0.3303753426802053,
           0.20155798937014976,
           0.030031052519282238,
           0.008827582470836889,
           -0.05272560841686357,
           -0.21750073299516076,
           -0.11803967172970328,
           0.08476581836042205,
           0.023065732064935042,
           1,
           -0.6297165782520794,
           0.3784675418700155,
           0.057714565735976324,
           0.4703593138247001,
           -0.043910700525214064,
           0.2576991250070113,
           0.1830345989339524,
           0.2653036710804196,
           0.17548650825381457,
           -0.08432241177256201,
           -0.10550969525221791,
           0.3363640634929488,
           -0.19171501561255763,
           0.10790585570602623,
           -0.25143341852837947,
           0.24067873756658117,
           0.1632074370499549,
           0.08217002604216078,
           0.007285850400551701,
           -0.11865894493708438,
           -0.1940924960890313,
           0.3608980557319581,
           -0.06313718639318364
          ],
          [
           -0.017020796813958704,
           -0.03865270449719614,
           0.0809716602324878,
           -0.09289270011220115,
           -0.0036358971484736916,
           -0.17122629194853634,
           0.2466788676313635,
           -0.1852203724708992,
           -0.1700425723029652,
           -0.03069571096235206,
           -0.333402704896457,
           -0.10813507717695882,
           -0.24762471597817862,
           -0.05036530207033401,
           0.004053951405676194,
           0.06583089936491515,
           0.26578406706936447,
           -0.1519504841683278,
           0.09810813969724957,
           0.3212689079448847,
           -0.6297165782520794,
           1,
           0.004916961154575785,
           0.28383223353270814,
           -0.047476707861269014,
           0.3549307078927568,
           0.10545284137355028,
           0.17620730704239565,
           0.09416167701138893,
           0.18739833092625272,
           0.0951580427350095,
           0.11572065517555083,
           -0.11233777625406866,
           -0.08079805377721072,
           -0.06795010622857028,
           -0.42063031348013635,
           -0.07165501320046207,
           0.019090748776440153,
           0.11104744497112744,
           0.16671101290076268,
           0.2671803076617124,
           0.3082219887362633,
           0.2965941920005668,
           0.4116505266521849
          ],
          [
           0.008190988066357157,
           0.08795164806617205,
           -0.1387564851212686,
           -0.09286669818148435,
           0.1451204561734168,
           0.26800518096235426,
           -0.33879627049374006,
           0.24286410160126923,
           0.2782024599710312,
           0.22804703338286397,
           -0.4647198001961842,
           0.6073801915554752,
           0.2358114553762946,
           0.05255070406496863,
           0.00442565204519221,
           -0.0765065957659035,
           -0.25274013543271673,
           -0.036276537396139424,
           -0.018908397931387724,
           0.1647830436719273,
           0.3784675418700155,
           0.004916961154575785,
           1,
           -0.6411215340096442,
           0.38534099035575453,
           -0.0026421872822138376,
           0.3166891639904631,
           0.07477581218873115,
           0.30720048539707323,
           0.08465426824068802,
           -0.08159008505663891,
           -0.08782179736768794,
           0.236946963871235,
           -0.09997516637631303,
           0.12130575187018866,
           -0.17902867062196548,
           0.27452890244257966,
           0.16252008828843661,
           0.02748104682451625,
           -0.08052949671173922,
           -0.12984768601604635,
           -0.17265229845837476,
           0.21075337001875705,
           -0.17627611811578564
          ],
          [
           -0.01377318872900596,
           0.06657213514513345,
           0.023671013010513185,
           -0.052312242947634764,
           0.12673537300695792,
           -0.08225486893813826,
           0.16417233309253518,
           -0.1615100890834317,
           -0.06518085660626195,
           0.16565089083393386,
           -0.3815932968077265,
           -0.38940452013714844,
           -0.2697271926423418,
           -0.07118376606626711,
           0.008522326596388876,
           0.08703263664894345,
           0.28790513721671834,
           -0.23085237242152853,
           0.20223701632048843,
           0.15788439397403897,
           0.057714565735976324,
           0.28383223353270814,
           -0.6411215340096442,
           1,
           0.047335882351172774,
           0.2942328784069205,
           0.040798532040264956,
           0.2821064219717299,
           0.04796097848423509,
           0.274501201960493,
           0.08700369093869247,
           0.0907847854525632,
           -0.0004077158725881331,
           -0.17416391693981773,
           -0.07777172972320834,
           -0.47775586327498687,
           -0.10158529768777605,
           0.020181447268733117,
           0.1633903793688709,
           0.25032921277611153,
           0.264915418961925,
           0.26929730058914425,
           0.44178009435947035,
           0.5092260122231467
          ],
          [
           0.0033971478097872105,
           0.20562007664086115,
           -0.1726445096177079,
           -0.05444676293913726,
           0.23013613487107135,
           0.3372807277351956,
           -0.4391098285439591,
           0.2686986251715219,
           0.3812169895970963,
           0.40242972350684364,
           -0.5187332164827466,
           0.5441363542836422,
           0.20001980379673287,
           0.033130451391823856,
           -0.0062856290166645535,
           -0.03994130191264065,
           -0.21635674021555115,
           -0.1134822345257722,
           0.08221059829549753,
           0.0294017846056387,
           0.4703593138247001,
           -0.047476707861269014,
           0.38534099035575453,
           0.047335882351172774,
           1,
           -0.6306917657939353,
           0.34701599555377316,
           0.08999139229988345,
           0.3459931591717508,
           0.09139547530347826,
           -0.09017661798725884,
           -0.10730963427620328,
           0.33903131701091704,
           -0.18718484219619158,
           0.10867471559655247,
           -0.24658237117862353,
           0.3014445270554431,
           0.19898429014804458,
           0.08516776501615707,
           -0.048348560285691164,
           -0.1934227599027446,
           -0.19271931618718804,
           0.3220760193857884,
           -0.08287366191409669
          ],
          [
           -0.009211760356587549,
           -0.06062459069356379,
           0.06326814139964838,
           -0.09633961826825559,
           0.03787990020728005,
           -0.16467355590159904,
           0.285241310295581,
           -0.1996169203180482,
           -0.18404154350937527,
           -0.020492402500577954,
           -0.3362982846984971,
           -0.34318231811587846,
           -0.24500983247685743,
           -0.05359310103750621,
           0.020687819837708565,
           0.051503693520811564,
           0.26353581036214885,
           -0.15642521492470993,
           0.10057130998574261,
           0.3131179268609463,
           -0.043910700525214064,
           0.3549307078927568,
           -0.0026421872822138376,
           0.2942328784069205,
           -0.6306917657939353,
           1,
           0.006701250020442545,
           0.27807020363722595,
           0.00495543049870408,
           0.27935847892844207,
           0.10125246802181254,
           0.11727230654466908,
           -0.11483871499570059,
           -0.08550850677032465,
           -0.06854024827676168,
           -0.4244578606625614,
           -0.1383106669839,
           -0.02037594216887896,
           0.10734628477092331,
           0.22738685471113088,
           0.348551152469414,
           0.30556815014797933,
           0.3383042642201648,
           0.43188277132751535
          ],
          [
           0.0032674444881383704,
           0.049061697629495186,
           -0.10117591361448183,
           -0.12245547899852695,
           0.04771151266520775,
           0.12891588111511512,
           -0.2954791429870141,
           0.22977691895639601,
           0.1633226988166017,
           0.06470665733452634,
           -0.4285039212787635,
           0.320523095007404,
           0.19758375866034714,
           0.03224035050137402,
           -0.0221902546317786,
           -0.055952468059952784,
           -0.18667260181315184,
           0.004912604988265538,
           -0.0782996455466118,
           0.3040624179005031,
           0.2576991250070113,
           0.10545284137355028,
           0.3166891639904631,
           0.040798532040264956,
           0.34701599555377316,
           0.006701250020442545,
           1,
           -0.6437667127104625,
           0.5377730397498587,
           -0.17732813454781293,
           -0.04416763907676325,
           -0.041031361263671504,
           0.09603303697422182,
           -0.024261007248864607,
           0.13155815378194152,
           -0.11431577350460323,
           0.3267015320448216,
           0.13370903077711663,
           0.00023147363013560567,
           -0.14586978067974274,
           -0.17162139902283582,
           -0.15919740642852195,
           0.01695147216454861,
           -0.19588431494960967
          ],
          [
           -0.008392549998355633,
           0.1053776678428196,
           -0.016557742951036198,
           -0.02257359179493519,
           0.22384098246008893,
           0.06322774611875473,
           0.11228242714591914,
           -0.1413963125774446,
           0.055677066527380616,
           0.3293485259115254,
           -0.415551893880319,
           -0.08361034939463914,
           -0.22192736254352521,
           -0.048408572987857175,
           0.03518037984070831,
           0.06332944136390083,
           0.21143790939575402,
           -0.2675281328562756,
           0.25715163510819916,
           0.01627372679457073,
           0.1830345989339524,
           0.17620730704239565,
           0.07477581218873115,
           0.2821064219717299,
           0.08999139229988345,
           0.27807020363722595,
           -0.6437667127104625,
           1,
           -0.18113533322001496,
           0.5330938326942409,
           0.04625225164274569,
           0.040433080354261755,
           0.14462638547452714,
           -0.24774242360739093,
           -0.08469276019044952,
           -0.5343821485031791,
           -0.1481120702463521,
           0.05089836372516033,
           0.18745697815364862,
           0.3093094058988887,
           0.2991786545503946,
           0.24729052199396587,
           0.6296031609781186,
           0.5149734780629709
          ],
          [
           0.005374329036311909,
           0.03420956058873309,
           -0.07819808202669813,
           -0.11225408873033375,
           0.059487769080054306,
           0.13084502938617007,
           -0.30045652081397656,
           0.24353328176785388,
           0.16658521231949475,
           0.07064998669449263,
           -0.42533933333412005,
           0.3172420247018443,
           0.19629732377483042,
           0.03862592342678353,
           -0.007588065258819613,
           -0.06594480192356114,
           -0.19476126946056702,
           0.01307605676809046,
           -0.0804501027578153,
           0.29510661726278103,
           0.2653036710804196,
           0.09416167701138893,
           0.30720048539707323,
           0.04796097848423509,
           0.3459931591717508,
           0.00495543049870408,
           0.5377730397498587,
           -0.18113533322001496,
           1,
           -0.6438150242418448,
           -0.0467052640611027,
           -0.0492765049697282,
           0.10257118616844516,
           -0.021034046310894505,
           0.13253696602628146,
           -0.11324664699621127,
           0.3259792595941771,
           0.1475732340009516,
           -0.01293920023835258,
           -0.1452483466815332,
           -0.1753508653557858,
           -0.15802170145085373,
           0.01807510411034437,
           -0.20218821748312163
          ],
          [
           -0.010487356300499686,
           0.12017625118896011,
           -0.039740962058925404,
           -0.03295889236478296,
           0.21171599176513312,
           0.06138154801518815,
           0.11663335681857676,
           -0.1546072637390206,
           0.052558453850650326,
           0.32292269808483876,
           -0.4186750789702281,
           -0.07968504899074658,
           -0.21995601146553345,
           -0.0546842132300993,
           0.020434237980508696,
           0.07316249386798748,
           0.21890836611027825,
           -0.27525622600611316,
           0.25875149199378983,
           0.02569783199417058,
           0.17548650825381457,
           0.18739833092625272,
           0.08465426824068802,
           0.274501201960493,
           0.09139547530347826,
           0.27935847892844207,
           -0.17732813454781293,
           0.5330938326942409,
           -0.6438150242418448,
           1,
           0.04865217505038656,
           0.04857480053298277,
           0.13796637540689907,
           -0.25059546380835057,
           -0.08532928999514905,
           -0.5347193922117558,
           -0.14663498311060366,
           0.03710454387953682,
           0.20035375640597017,
           0.3079355937840155,
           0.3021485071686728,
           0.24544581207458568,
           0.6274288843898873,
           0.5201217821008781
          ],
          [
           -0.016023595160041378,
           -0.016158940862199146,
           0.05202098094740329,
           0.00755621292514459,
           -0.016332203527892688,
           -0.11793667192853156,
           0.1797068873575995,
           -0.13537044770465342,
           -0.31627035864584196,
           -0.022624012243866037,
           -0.0021133998738822233,
           -0.09083024163219618,
           -0.19519784741460172,
           -0.025140232705352674,
           0.003147859920735817,
           0.07282796695978384,
           0.17983618375166602,
           -0.07017770331025897,
           0.07552652675122472,
           0.025475536146245106,
           -0.08432241177256201,
           0.0951580427350095,
           -0.08159008505663891,
           0.08700369093869247,
           -0.09017661798725884,
           0.10125246802181254,
           -0.04416763907676325,
           0.04625225164274569,
           -0.0467052640611027,
           0.04865217505038656,
           1,
           -0.2782148074777716,
           -0.3767621373493346,
           -0.28868512421141257,
           -0.02765057532919177,
           -0.04481842514814707,
           -0.0673158707795727,
           -0.02534750245126809,
           0.022234037012634333,
           0.06471137669186842,
           0.05867720146210609,
           0.06422415957151413,
           0.042812140557898816,
           0.1859869321041078
          ],
          [
           0.0012147794729686294,
           -0.0241353723603211,
           0.06026700017637367,
           -0.007721160009098325,
           -0.013588829059283302,
           -0.13430175066263256,
           0.2041449607569331,
           -0.16001827896531148,
           -0.3133827992758065,
           -0.05007665545044517,
           0.0010297293228975783,
           -0.1327641737301977,
           -0.19007488309148807,
           -0.02290132455824974,
           0.017154015612903972,
           0.04383851247315141,
           0.18407993159451083,
           -0.06392145833871449,
           0.06004835777743914,
           0.05143757263283329,
           -0.10550969525221791,
           0.11572065517555083,
           -0.08782179736768794,
           0.0907847854525632,
           -0.10730963427620328,
           0.11727230654466908,
           -0.041031361263671504,
           0.040433080354261755,
           -0.0492765049697282,
           0.04857480053298277,
           -0.2782148074777716,
           1,
           -0.3733222859365921,
           -0.28604941899078157,
           -0.020469954216653125,
           -0.05094007265637037,
           -0.061615264130491856,
           -0.022318419200665306,
           0.0024107008300571584,
           0.04102560828536282,
           0.09528481036489694,
           0.08620291942973225,
           0.03055035807230956,
           0.1829145812629737
          ],
          [
           0.0007521807011949914,
           0.17171777869091615,
           -0.15064248847911435,
           0.0030618298454302066,
           0.20886475546714192,
           0.301918749011285,
           -0.3316614848172629,
           0.1860144650409409,
           0.8394430525077718,
           0.3364097780255705,
           -0.2849166458500381,
           0.24180359927056969,
           0.1697586261643762,
           0.008117638924841854,
           0.009431756094916097,
           -0.04582424842161956,
           -0.16869722722569688,
           -0.08083556522609313,
           0.08361817831666819,
           -0.10441759819553018,
           0.3363640634929488,
           -0.11233777625406866,
           0.236946963871235,
           -0.0004077158725881331,
           0.33903131701091704,
           -0.11483871499570059,
           0.09603303697422182,
           0.14462638547452714,
           0.10257118616844516,
           0.13796637540689907,
           -0.3767621373493346,
           -0.3733222859365921,
           1,
           -0.3873718709062573,
           0.01740948168965437,
           -0.1756715968046083,
           0.1376593831162035,
           0.10371819670121553,
           0.06921784322524506,
           -0.007192929018264147,
           -0.04497591521026094,
           -0.08142171369752148,
           0.2716246710861189,
           -0.05924588832828326
          ],
          [
           0.013744173305345336,
           -0.15347749042895084,
           0.05907101281466968,
           -0.0033187895436075847,
           -0.2053980051888406,
           -0.09168283858843226,
           -0.004138055475923,
           0.08097376947436312,
           -0.32517662576923606,
           -0.30683412957623935,
           0.32136073231782275,
           -0.05230502379802956,
           0.18761158051726598,
           0.03806885851394966,
           -0.030508476296892316,
           -0.0631556113132487,
           -0.16780349244112444,
           0.222605254379153,
           -0.22720630042804055,
           0.041899281981820136,
           -0.19171501561255763,
           -0.08079805377721072,
           -0.09997516637631303,
           -0.17416391693981773,
           -0.18718484219619158,
           -0.08550850677032465,
           -0.024261007248864607,
           -0.24774242360739093,
           -0.021034046310894505,
           -0.25059546380835057,
           -0.28868512421141257,
           -0.28604941899078157,
           -0.3873718709062573,
           1,
           0.02771359762842712,
           0.29152351731633036,
           -0.028092956659226696,
           -0.06976721648830278,
           -0.10206865586528849,
           -0.09583397521315298,
           -0.1005757639207113,
           -0.05617035398364558,
           -0.37743731568410765,
           -0.2957584231354866
          ],
          [
           0.012379399525304997,
           0.003737829352344746,
           -0.023303211243906045,
           -0.3273537394642321,
           -0.006482307788873072,
           0.0417872235214099,
           -0.08345125478939242,
           0.07066593463010724,
           0.03649236304117364,
           -0.09493223567314706,
           -0.056373184771759594,
           0.19971963780961163,
           0.09659345477820513,
           -0.010199981492044654,
           -0.012471391390905407,
           -0.03831982626084121,
           -0.058349868469251207,
           -0.10325754824285079,
           -0.09155756566983209,
           0.14810317596777198,
           0.10790585570602623,
           -0.06795010622857028,
           0.12130575187018866,
           -0.07777172972320834,
           0.10867471559655247,
           -0.06854024827676168,
           0.13155815378194152,
           -0.08469276019044952,
           0.13253696602628146,
           -0.08532928999514905,
           -0.02765057532919177,
           -0.020469954216653125,
           0.01740948168965437,
           0.02771359762842712,
           1,
           -0.07351223639019631,
           -0.04350172521850391,
           -0.04463999786094218,
           -0.04516709437782315,
           -0.03909705522967194,
           -0.030420704645290196,
           -0.020943716876606976,
           -0.1419938837933224,
           -0.097309811125342
          ],
          [
           0.006565467664951225,
           -0.12249087328076257,
           0.05916129080173914,
           0.10722156265910057,
           -0.25103911008484847,
           -0.07575363536722006,
           0.011370248252041972,
           0.042097274249217186,
           -0.11399150577550836,
           -0.36269892922339564,
           0.7668544386616538,
           0.11701347043966569,
           0.2161379719388725,
           -0.0018260591038288937,
           -0.06165918292646342,
           -0.06329795037533419,
           -0.13919934287022367,
           0.30618054408245665,
           -0.24556858340102392,
           -0.2861398286788709,
           -0.25143341852837947,
           -0.42063031348013635,
           -0.17902867062196548,
           -0.47775586327498687,
           -0.24658237117862353,
           -0.4244578606625614,
           -0.11431577350460323,
           -0.5343821485031791,
           -0.11324664699621127,
           -0.5347193922117558,
           -0.04481842514814707,
           -0.05094007265637037,
           -0.1756715968046083,
           0.29152351731633036,
           -0.07351223639019631,
           1,
           -0.2783380139564862,
           -0.28562104802117644,
           -0.288993580879027,
           -0.25015552025847787,
           -0.1946414417267171,
           -0.13400462926524154,
           -0.7240042761862723,
           -0.49249484850913616
          ],
          [
           0.0010289440492884218,
           0.041458539362045944,
           -0.08485229643715717,
           -0.0655219092521565,
           0.06811636295290968,
           0.155680297123726,
           -0.26457227714719495,
           0.2047351332501563,
           0.19478900063201443,
           0.09291088242765538,
           -0.21344474145081338,
           0.28385920165104506,
           0.17736817689983939,
           0.05088224602947971,
           -0.0010103107809098669,
           -0.08351679862821353,
           -0.17532290463903555,
           0.010272534618772965,
           -0.049629282282999274,
           0.08804760377321166,
           0.24067873756658117,
           -0.07165501320046207,
           0.27452890244257966,
           -0.10158529768777605,
           0.3014445270554431,
           -0.1383106669839,
           0.3267015320448216,
           -0.1481120702463521,
           0.3259792595941771,
           -0.14663498311060366,
           -0.0673158707795727,
           -0.061615264130491856,
           0.1376593831162035,
           -0.028092956659226696,
           -0.04350172521850391,
           -0.2783380139564862,
           1,
           -0.16901959398553068,
           -0.17101532972796607,
           -0.14803245335122656,
           -0.11518134843817562,
           -0.07929880583908658,
           0.010334565421040486,
           -0.19642251555989745
          ],
          [
           -0.0011614404834415237,
           0.0468947440188713,
           -0.04792181740961563,
           -0.06925739660285136,
           0.06879036751956709,
           0.07679023385680821,
           -0.14897561490497432,
           0.09563502986845167,
           0.12959306579769897,
           0.09784506021534964,
           -0.21902976845023278,
           0.030920994519849657,
           0.012318717999428143,
           0.09013365837721282,
           0.02282225121920131,
           -0.0011405642175600142,
           -0.11048172247759983,
           -0.038483515670520774,
           -0.002537674958456383,
           0.08773574275270929,
           0.1632074370499549,
           0.019090748776440153,
           0.16252008828843661,
           0.020181447268733117,
           0.19898429014804458,
           -0.02037594216887896,
           0.13370903077711663,
           0.05089836372516033,
           0.1475732340009516,
           0.03710454387953682,
           -0.02534750245126809,
           -0.022318419200665306,
           0.10371819670121553,
           -0.06976721648830278,
           -0.04463999786094218,
           -0.28562104802117644,
           -0.16901959398553068,
           1,
           -0.17549014240010644,
           -0.15190589264579207,
           -0.11819520081272428,
           -0.0813737502421507,
           0.11631077638352119,
           -0.05987456163405599
          ],
          [
           0.0055143952407482695,
           0.050380133405656,
           -0.013133748883376253,
           0.009173738601398498,
           0.08240723181194681,
           0.006449789575471183,
           0.0018373011133035447,
           -0.027701907406468326,
           0.030692391799061986,
           0.14082589931554837,
           -0.22161601024175392,
           -0.17568289450514196,
           -0.12218255626541366,
           -0.001935029519759424,
           0.0809385837970146,
           0.08979444011627055,
           -0.0007263338782098415,
           -0.09622410552600613,
           0.1028473616097888,
           0.04506349963695784,
           0.08217002604216078,
           0.11104744497112744,
           0.02748104682451625,
           0.1633903793688709,
           0.08516776501615707,
           0.10734628477092331,
           0.00023147363013560567,
           0.18745697815364862,
           -0.01293920023835258,
           0.20035375640597017,
           0.022234037012634333,
           0.0024107008300571584,
           0.06921784322524506,
           -0.10206865586528849,
           -0.04516709437782315,
           -0.288993580879027,
           -0.17101532972796607,
           -0.17549014240010644,
           1,
           -0.15369955462482543,
           -0.11959081644096925,
           -0.08233458855694516,
           0.24938252181909196,
           0.15106475458944213
          ],
          [
           0.0022639248556893103,
           0.02980114153575734,
           0.029116685539573493,
           0.01354416083530414,
           0.07021607444323133,
           -0.03742049943688946,
           0.16402600888662816,
           -0.14165463465717823,
           -0.07539538053836137,
           0.11504311304083624,
           -0.19183287106590452,
           -0.19575969423168874,
           -0.18704411408727314,
           -0.03636436753614885,
           0.022685934038753474,
           0.07990114613982839,
           0.15854534498198886,
           -0.12098527407169751,
           0.13051637483341372,
           0.04617313025748473,
           0.007285850400551701,
           0.16671101290076268,
           -0.08052949671173922,
           0.25032921277611153,
           -0.048348560285691164,
           0.22738685471113088,
           -0.14586978067974274,
           0.3093094058988887,
           -0.1452483466815332,
           0.3079355937840155,
           0.06471137669186842,
           0.04102560828536282,
           -0.007192929018264147,
           -0.09583397521315298,
           -0.03909705522967194,
           -0.25015552025847787,
           -0.14803245335122656,
           -0.15190589264579207,
           -0.15369955462482543,
           1,
           -0.1035189183577457,
           -0.07126958243530004,
           0.2992482749703062,
           0.31535649292949375
          ],
          [
           -0.01729639977578561,
           0.0027469138007307934,
           0.02916790813972577,
           0.047230224853350544,
           0.05839553030922403,
           -0.08976780537227952,
           0.21716905641739878,
           -0.17628754524548398,
           -0.11657494942361593,
           0.06449678742531297,
           -0.14926165353562226,
           -0.15231704292540862,
           -0.1815884276698723,
           -0.0795548670402933,
           -0.016683332058846572,
           0.03392441136949232,
           0.2600231187279581,
           -0.10461943753288547,
           0.13413042798589525,
           0.06206867835015082,
           -0.11865894493708438,
           0.2671803076617124,
           -0.12984768601604635,
           0.264915418961925,
           -0.1934227599027446,
           0.348551152469414,
           -0.17162139902283582,
           0.2991786545503946,
           -0.1753508653557858,
           0.3021485071686728,
           0.05867720146210609,
           0.09528481036489694,
           -0.04497591521026094,
           -0.1005757639207113,
           -0.030420704645290196,
           -0.1946414417267171,
           -0.11518134843817562,
           -0.11819520081272428,
           -0.11959081644096925,
           -0.1035189183577457,
           1,
           -0.05545356049761999,
           0.2890817945062925,
           0.3917850148151173
          ],
          [
           -0.013175503226569995,
           -0.014319252399392659,
           0.04842990069632624,
           0.06397885330677887,
           0.011690553488378413,
           -0.09180583874167608,
           0.20244942974883903,
           -0.16252987019400117,
           -0.10976592185088259,
           0.041262807674613815,
           -0.10276204475324274,
           -0.10486558611016054,
           -0.13600141475544186,
           -0.07700256690669278,
           -0.05074538674253275,
           -0.01951577491141036,
           0.2780899959768306,
           -0.11122353939544416,
           0.15084156222158607,
           0.046015008372748904,
           -0.1940924960890313,
           0.3082219887362633,
           -0.17265229845837476,
           0.26929730058914425,
           -0.19271931618718804,
           0.30556815014797933,
           -0.15919740642852195,
           0.24729052199396587,
           -0.15802170145085373,
           0.24544581207458568,
           0.06422415957151413,
           0.08620291942973225,
           -0.08142171369752148,
           -0.05617035398364558,
           -0.020943716876606976,
           -0.13400462926524154,
           -0.07929880583908658,
           -0.0813737502421507,
           -0.08233458855694516,
           -0.07126958243530004,
           -0.05545356049761999,
           1,
           0.24635281052679783,
           0.3785302478196156
          ],
          [
           -0.014569323728666463,
           0.22017333857626337,
           -0.11389023002193659,
           0.24739796321412494,
           0.35214996779595914,
           0.19335642223784563,
           -0.060165327127736146,
           -0.04807472584954417,
           0.20289280324010792,
           0.787065528472674,
           -0.7635565582866174,
           0.05357574603657979,
           -0.19582433336061164,
           -0.042475593710870674,
           0.02577924604537384,
           0.05328022161939752,
           0.19282697412513186,
           -0.33831372903110696,
           0.49043396944000867,
           -0.1601893262044364,
           0.3608980557319581,
           0.2965941920005668,
           0.21075337001875705,
           0.44178009435947035,
           0.3220760193857884,
           0.3383042642201648,
           0.01695147216454861,
           0.6296031609781186,
           0.01807510411034437,
           0.6274288843898873,
           0.042812140557898816,
           0.03055035807230956,
           0.2716246710861189,
           -0.37743731568410765,
           -0.1419938837933224,
           -0.7240042761862723,
           0.010334565421040486,
           0.11631077638352119,
           0.24938252181909196,
           0.2992482749703062,
           0.2890817945062925,
           0.24635281052679783,
           1,
           0.6511738315787867
          ],
          [
           -8.030345627875773e-05,
           0.10300618407952136,
           0.06207819481604459,
           0.11321354444457048,
           0.15857437033153196,
           -0.19832426260399502,
           0.4442549080768271,
           -0.41370658382686365,
           -0.21287506481300217,
           0.36165543578004794,
           -0.3752228425945346,
           -0.2843863431108611,
           -0.6167194058801695,
           -0.18590643057540746,
           0.0193913763200881,
           0.2117196533061629,
           0.6682265637593973,
           -0.3960585159876681,
           0.46850381616364334,
           -0.05246858799893648,
           -0.06313718639318364,
           0.4116505266521849,
           -0.17627611811578564,
           0.5092260122231467,
           -0.08287366191409669,
           0.43188277132751535,
           -0.19588431494960967,
           0.5149734780629709,
           -0.20218821748312163,
           0.5201217821008781,
           0.1859869321041078,
           0.1829145812629737,
           -0.05924588832828326,
           -0.2957584231354866,
           -0.097309811125342,
           -0.49249484850913616,
           -0.19642251555989745,
           -0.05987456163405599,
           0.15106475458944213,
           0.31535649292949375,
           0.3917850148151173,
           0.3785302478196156,
           0.6511738315787867,
           1
          ]
         ]
        }
       ],
       "layout": {
        "margin": {
         "b": 210,
         "l": 210,
         "r": 0,
         "t": 25
        },
        "template": {
         "data": {
          "bar": [
           {
            "error_x": {
             "color": "#2a3f5f"
            },
            "error_y": {
             "color": "#2a3f5f"
            },
            "marker": {
             "line": {
              "color": "#E5ECF6",
              "width": 0.5
             }
            },
            "type": "bar"
           }
          ],
          "barpolar": [
           {
            "marker": {
             "line": {
              "color": "#E5ECF6",
              "width": 0.5
             }
            },
            "type": "barpolar"
           }
          ],
          "carpet": [
           {
            "aaxis": {
             "endlinecolor": "#2a3f5f",
             "gridcolor": "white",
             "linecolor": "white",
             "minorgridcolor": "white",
             "startlinecolor": "#2a3f5f"
            },
            "baxis": {
             "endlinecolor": "#2a3f5f",
             "gridcolor": "white",
             "linecolor": "white",
             "minorgridcolor": "white",
             "startlinecolor": "#2a3f5f"
            },
            "type": "carpet"
           }
          ],
          "choropleth": [
           {
            "colorbar": {
             "outlinewidth": 0,
             "ticks": ""
            },
            "type": "choropleth"
           }
          ],
          "contour": [
           {
            "colorbar": {
             "outlinewidth": 0,
             "ticks": ""
            },
            "colorscale": [
             [
              0,
              "#0d0887"
             ],
             [
              0.1111111111111111,
              "#46039f"
             ],
             [
              0.2222222222222222,
              "#7201a8"
             ],
             [
              0.3333333333333333,
              "#9c179e"
             ],
             [
              0.4444444444444444,
              "#bd3786"
             ],
             [
              0.5555555555555556,
              "#d8576b"
             ],
             [
              0.6666666666666666,
              "#ed7953"
             ],
             [
              0.7777777777777778,
              "#fb9f3a"
             ],
             [
              0.8888888888888888,
              "#fdca26"
             ],
             [
              1,
              "#f0f921"
             ]
            ],
            "type": "contour"
           }
          ],
          "contourcarpet": [
           {
            "colorbar": {
             "outlinewidth": 0,
             "ticks": ""
            },
            "type": "contourcarpet"
           }
          ],
          "heatmap": [
           {
            "colorbar": {
             "outlinewidth": 0,
             "ticks": ""
            },
            "colorscale": [
             [
              0,
              "#0d0887"
             ],
             [
              0.1111111111111111,
              "#46039f"
             ],
             [
              0.2222222222222222,
              "#7201a8"
             ],
             [
              0.3333333333333333,
              "#9c179e"
             ],
             [
              0.4444444444444444,
              "#bd3786"
             ],
             [
              0.5555555555555556,
              "#d8576b"
             ],
             [
              0.6666666666666666,
              "#ed7953"
             ],
             [
              0.7777777777777778,
              "#fb9f3a"
             ],
             [
              0.8888888888888888,
              "#fdca26"
             ],
             [
              1,
              "#f0f921"
             ]
            ],
            "type": "heatmap"
           }
          ],
          "heatmapgl": [
           {
            "colorbar": {
             "outlinewidth": 0,
             "ticks": ""
            },
            "colorscale": [
             [
              0,
              "#0d0887"
             ],
             [
              0.1111111111111111,
              "#46039f"
             ],
             [
              0.2222222222222222,
              "#7201a8"
             ],
             [
              0.3333333333333333,
              "#9c179e"
             ],
             [
              0.4444444444444444,
              "#bd3786"
             ],
             [
              0.5555555555555556,
              "#d8576b"
             ],
             [
              0.6666666666666666,
              "#ed7953"
             ],
             [
              0.7777777777777778,
              "#fb9f3a"
             ],
             [
              0.8888888888888888,
              "#fdca26"
             ],
             [
              1,
              "#f0f921"
             ]
            ],
            "type": "heatmapgl"
           }
          ],
          "histogram": [
           {
            "marker": {
             "colorbar": {
              "outlinewidth": 0,
              "ticks": ""
             }
            },
            "type": "histogram"
           }
          ],
          "histogram2d": [
           {
            "colorbar": {
             "outlinewidth": 0,
             "ticks": ""
            },
            "colorscale": [
             [
              0,
              "#0d0887"
             ],
             [
              0.1111111111111111,
              "#46039f"
             ],
             [
              0.2222222222222222,
              "#7201a8"
             ],
             [
              0.3333333333333333,
              "#9c179e"
             ],
             [
              0.4444444444444444,
              "#bd3786"
             ],
             [
              0.5555555555555556,
              "#d8576b"
             ],
             [
              0.6666666666666666,
              "#ed7953"
             ],
             [
              0.7777777777777778,
              "#fb9f3a"
             ],
             [
              0.8888888888888888,
              "#fdca26"
             ],
             [
              1,
              "#f0f921"
             ]
            ],
            "type": "histogram2d"
           }
          ],
          "histogram2dcontour": [
           {
            "colorbar": {
             "outlinewidth": 0,
             "ticks": ""
            },
            "colorscale": [
             [
              0,
              "#0d0887"
             ],
             [
              0.1111111111111111,
              "#46039f"
             ],
             [
              0.2222222222222222,
              "#7201a8"
             ],
             [
              0.3333333333333333,
              "#9c179e"
             ],
             [
              0.4444444444444444,
              "#bd3786"
             ],
             [
              0.5555555555555556,
              "#d8576b"
             ],
             [
              0.6666666666666666,
              "#ed7953"
             ],
             [
              0.7777777777777778,
              "#fb9f3a"
             ],
             [
              0.8888888888888888,
              "#fdca26"
             ],
             [
              1,
              "#f0f921"
             ]
            ],
            "type": "histogram2dcontour"
           }
          ],
          "mesh3d": [
           {
            "colorbar": {
             "outlinewidth": 0,
             "ticks": ""
            },
            "type": "mesh3d"
           }
          ],
          "parcoords": [
           {
            "line": {
             "colorbar": {
              "outlinewidth": 0,
              "ticks": ""
             }
            },
            "type": "parcoords"
           }
          ],
          "pie": [
           {
            "automargin": true,
            "type": "pie"
           }
          ],
          "scatter": [
           {
            "marker": {
             "colorbar": {
              "outlinewidth": 0,
              "ticks": ""
             }
            },
            "type": "scatter"
           }
          ],
          "scatter3d": [
           {
            "line": {
             "colorbar": {
              "outlinewidth": 0,
              "ticks": ""
             }
            },
            "marker": {
             "colorbar": {
              "outlinewidth": 0,
              "ticks": ""
             }
            },
            "type": "scatter3d"
           }
          ],
          "scattercarpet": [
           {
            "marker": {
             "colorbar": {
              "outlinewidth": 0,
              "ticks": ""
             }
            },
            "type": "scattercarpet"
           }
          ],
          "scattergeo": [
           {
            "marker": {
             "colorbar": {
              "outlinewidth": 0,
              "ticks": ""
             }
            },
            "type": "scattergeo"
           }
          ],
          "scattergl": [
           {
            "marker": {
             "colorbar": {
              "outlinewidth": 0,
              "ticks": ""
             }
            },
            "type": "scattergl"
           }
          ],
          "scattermapbox": [
           {
            "marker": {
             "colorbar": {
              "outlinewidth": 0,
              "ticks": ""
             }
            },
            "type": "scattermapbox"
           }
          ],
          "scatterpolar": [
           {
            "marker": {
             "colorbar": {
              "outlinewidth": 0,
              "ticks": ""
             }
            },
            "type": "scatterpolar"
           }
          ],
          "scatterpolargl": [
           {
            "marker": {
             "colorbar": {
              "outlinewidth": 0,
              "ticks": ""
             }
            },
            "type": "scatterpolargl"
           }
          ],
          "scatterternary": [
           {
            "marker": {
             "colorbar": {
              "outlinewidth": 0,
              "ticks": ""
             }
            },
            "type": "scatterternary"
           }
          ],
          "surface": [
           {
            "colorbar": {
             "outlinewidth": 0,
             "ticks": ""
            },
            "colorscale": [
             [
              0,
              "#0d0887"
             ],
             [
              0.1111111111111111,
              "#46039f"
             ],
             [
              0.2222222222222222,
              "#7201a8"
             ],
             [
              0.3333333333333333,
              "#9c179e"
             ],
             [
              0.4444444444444444,
              "#bd3786"
             ],
             [
              0.5555555555555556,
              "#d8576b"
             ],
             [
              0.6666666666666666,
              "#ed7953"
             ],
             [
              0.7777777777777778,
              "#fb9f3a"
             ],
             [
              0.8888888888888888,
              "#fdca26"
             ],
             [
              1,
              "#f0f921"
             ]
            ],
            "type": "surface"
           }
          ],
          "table": [
           {
            "cells": {
             "fill": {
              "color": "#EBF0F8"
             },
             "line": {
              "color": "white"
             }
            },
            "header": {
             "fill": {
              "color": "#C8D4E3"
             },
             "line": {
              "color": "white"
             }
            },
            "type": "table"
           }
          ]
         },
         "layout": {
          "annotationdefaults": {
           "arrowcolor": "#2a3f5f",
           "arrowhead": 0,
           "arrowwidth": 1
          },
          "coloraxis": {
           "colorbar": {
            "outlinewidth": 0,
            "ticks": ""
           }
          },
          "colorscale": {
           "diverging": [
            [
             0,
             "#8e0152"
            ],
            [
             0.1,
             "#c51b7d"
            ],
            [
             0.2,
             "#de77ae"
            ],
            [
             0.3,
             "#f1b6da"
            ],
            [
             0.4,
             "#fde0ef"
            ],
            [
             0.5,
             "#f7f7f7"
            ],
            [
             0.6,
             "#e6f5d0"
            ],
            [
             0.7,
             "#b8e186"
            ],
            [
             0.8,
             "#7fbc41"
            ],
            [
             0.9,
             "#4d9221"
            ],
            [
             1,
             "#276419"
            ]
           ],
           "sequential": [
            [
             0,
             "#0d0887"
            ],
            [
             0.1111111111111111,
             "#46039f"
            ],
            [
             0.2222222222222222,
             "#7201a8"
            ],
            [
             0.3333333333333333,
             "#9c179e"
            ],
            [
             0.4444444444444444,
             "#bd3786"
            ],
            [
             0.5555555555555556,
             "#d8576b"
            ],
            [
             0.6666666666666666,
             "#ed7953"
            ],
            [
             0.7777777777777778,
             "#fb9f3a"
            ],
            [
             0.8888888888888888,
             "#fdca26"
            ],
            [
             1,
             "#f0f921"
            ]
           ],
           "sequentialminus": [
            [
             0,
             "#0d0887"
            ],
            [
             0.1111111111111111,
             "#46039f"
            ],
            [
             0.2222222222222222,
             "#7201a8"
            ],
            [
             0.3333333333333333,
             "#9c179e"
            ],
            [
             0.4444444444444444,
             "#bd3786"
            ],
            [
             0.5555555555555556,
             "#d8576b"
            ],
            [
             0.6666666666666666,
             "#ed7953"
            ],
            [
             0.7777777777777778,
             "#fb9f3a"
            ],
            [
             0.8888888888888888,
             "#fdca26"
            ],
            [
             1,
             "#f0f921"
            ]
           ]
          },
          "colorway": [
           "#636efa",
           "#EF553B",
           "#00cc96",
           "#ab63fa",
           "#FFA15A",
           "#19d3f3",
           "#FF6692",
           "#B6E880",
           "#FF97FF",
           "#FECB52"
          ],
          "font": {
           "color": "#2a3f5f"
          },
          "geo": {
           "bgcolor": "white",
           "lakecolor": "white",
           "landcolor": "#E5ECF6",
           "showlakes": true,
           "showland": true,
           "subunitcolor": "white"
          },
          "hoverlabel": {
           "align": "left"
          },
          "hovermode": "closest",
          "mapbox": {
           "style": "light"
          },
          "paper_bgcolor": "white",
          "plot_bgcolor": "#E5ECF6",
          "polar": {
           "angularaxis": {
            "gridcolor": "white",
            "linecolor": "white",
            "ticks": ""
           },
           "bgcolor": "#E5ECF6",
           "radialaxis": {
            "gridcolor": "white",
            "linecolor": "white",
            "ticks": ""
           }
          },
          "scene": {
           "xaxis": {
            "backgroundcolor": "#E5ECF6",
            "gridcolor": "white",
            "gridwidth": 2,
            "linecolor": "white",
            "showbackground": true,
            "ticks": "",
            "zerolinecolor": "white"
           },
           "yaxis": {
            "backgroundcolor": "#E5ECF6",
            "gridcolor": "white",
            "gridwidth": 2,
            "linecolor": "white",
            "showbackground": true,
            "ticks": "",
            "zerolinecolor": "white"
           },
           "zaxis": {
            "backgroundcolor": "#E5ECF6",
            "gridcolor": "white",
            "gridwidth": 2,
            "linecolor": "white",
            "showbackground": true,
            "ticks": "",
            "zerolinecolor": "white"
           }
          },
          "shapedefaults": {
           "line": {
            "color": "#2a3f5f"
           }
          },
          "ternary": {
           "aaxis": {
            "gridcolor": "white",
            "linecolor": "white",
            "ticks": ""
           },
           "baxis": {
            "gridcolor": "white",
            "linecolor": "white",
            "ticks": ""
           },
           "bgcolor": "#E5ECF6",
           "caxis": {
            "gridcolor": "white",
            "linecolor": "white",
            "ticks": ""
           }
          },
          "title": {
           "x": 0.05
          },
          "xaxis": {
           "automargin": true,
           "gridcolor": "white",
           "linecolor": "white",
           "ticks": "",
           "title": {
            "standoff": 15
           },
           "zerolinecolor": "white",
           "zerolinewidth": 2
          },
          "yaxis": {
           "automargin": true,
           "gridcolor": "white",
           "linecolor": "white",
           "ticks": "",
           "title": {
            "standoff": 15
           },
           "zerolinecolor": "white",
           "zerolinewidth": 2
          }
         }
        },
        "title": {
         "text": "Correlation Matrix for variables"
        },
        "xaxis": {
         "tickfont": {
          "size": 9
         }
        },
        "yaxis": {
         "tickfont": {
          "size": 9
         }
        }
       }
      },
      "text/html": [
       "<div>\n",
       "        \n",
       "        \n",
       "            <div id=\"42c05a52-a187-4a3e-9c12-a7ae1d410dca\" class=\"plotly-graph-div\" style=\"height:525px; width:100%;\"></div>\n",
       "            <script type=\"text/javascript\">\n",
       "                require([\"plotly\"], function(Plotly) {\n",
       "                    window.PLOTLYENV=window.PLOTLYENV || {};\n",
       "                    \n",
       "                if (document.getElementById(\"42c05a52-a187-4a3e-9c12-a7ae1d410dca\")) {\n",
       "                    Plotly.newPlot(\n",
       "                        '42c05a52-a187-4a3e-9c12-a7ae1d410dca',\n",
       "                        [{\"colorscale\": [[0.0, \"#440154\"], [0.1111111111111111, \"#482878\"], [0.2222222222222222, \"#3e4989\"], [0.3333333333333333, \"#31688e\"], [0.4444444444444444, \"#26828e\"], [0.5555555555555556, \"#1f9e89\"], [0.6666666666666666, \"#35b779\"], [0.7777777777777778, \"#6ece58\"], [0.8888888888888888, \"#b5de2b\"], [1.0, \"#fde725\"]], \"type\": \"heatmap\", \"x\": [\"gender\", \"SeniorCitizen\", \"Dependents\", \"PhoneService\", \"PaperlessBilling\", \"Churn\", \"Engaged\", \"YandNotE\", \"ElectCheck\", \"fiberopt\", \"StreamNoInt\", \"NoProt\", \"tenure_(-0.072, 14.4]\", \"tenure_(14.4, 28.8]\", \"tenure_(28.8, 43.2]\", \"tenure_(43.2, 57.6]\", \"tenure_(57.6, 72.0]\", \"MultipleLines_No\", \"MultipleLines_Yes\", \"InternetService_DSL\", \"OnlineSecurity_No\", \"OnlineSecurity_Yes\", \"OnlineBackup_No\", \"OnlineBackup_Yes\", \"TechSupport_No\", \"TechSupport_Yes\", \"StreamingTV_No\", \"StreamingTV_Yes\", \"StreamingMovies_No\", \"StreamingMovies_Yes\", \"PaymentMethod_Bank transfer (automatic)\", \"PaymentMethod_Credit card (automatic)\", \"PaymentMethod_Electronic check\", \"PaymentMethod_Mailed check\", \"TotalServices_0\", \"TotalServices_1\", \"TotalServices_2\", \"TotalServices_3\", \"TotalServices_4\", \"TotalServices_5\", \"TotalServices_6\", \"TotalServices_7\", \"MonthlyCharges\", \"TotalCharges\"], \"y\": [\"gender\", \"SeniorCitizen\", \"Dependents\", \"PhoneService\", \"PaperlessBilling\", \"Churn\", \"Engaged\", \"YandNotE\", \"ElectCheck\", \"fiberopt\", \"StreamNoInt\", \"NoProt\", \"tenure_(-0.072, 14.4]\", \"tenure_(14.4, 28.8]\", \"tenure_(28.8, 43.2]\", \"tenure_(43.2, 57.6]\", \"tenure_(57.6, 72.0]\", \"MultipleLines_No\", \"MultipleLines_Yes\", \"InternetService_DSL\", \"OnlineSecurity_No\", \"OnlineSecurity_Yes\", \"OnlineBackup_No\", \"OnlineBackup_Yes\", \"TechSupport_No\", \"TechSupport_Yes\", \"StreamingTV_No\", \"StreamingTV_Yes\", \"StreamingMovies_No\", \"StreamingMovies_Yes\", \"PaymentMethod_Bank transfer (automatic)\", \"PaymentMethod_Credit card (automatic)\", \"PaymentMethod_Electronic check\", \"PaymentMethod_Mailed check\", \"TotalServices_0\", \"TotalServices_1\", \"TotalServices_2\", \"TotalServices_3\", \"TotalServices_4\", \"TotalServices_5\", \"TotalServices_6\", \"TotalServices_7\", \"MonthlyCharges\", \"TotalCharges\"], \"z\": [[1.0, -0.0018737116382603585, 0.010516611922734686, -0.006487672136207867, -0.011753691221221238, -0.008612095078997463, 0.0033859456136262796, -0.0037759984925327455, -0.0069688154692139435, -0.011286442720116788, 0.006025751154069604, 0.0034135357041748028, -0.006476741933005745, 0.004373518452120793, -0.002619065948279373, -0.007495610869791519, 0.011727814402547398, 0.004476122373779718, -0.00841365587151559, 0.006567778691102118, 0.01042908841920113, -0.017020796813958704, 0.008190988066357157, -0.01377318872900596, 0.0033971478097872105, -0.009211760356587549, 0.0032674444881383704, -0.008392549998355633, 0.005374329036311909, -0.010487356300499686, -0.016023595160041378, 0.0012147794729686294, 0.0007521807011949914, 0.013744173305345336, 0.012379399525304997, 0.006565467664951225, 0.0010289440492884218, -0.0011614404834415237, 0.0055143952407482695, 0.0022639248556893103, -0.01729639977578561, -0.013175503226569995, -0.014569323728666463, -8.030345627875773e-05], [-0.0018737116382603585, 1.0, -0.21118508849394904, 0.008576401079278321, 0.15652955931114873, 0.15088932817647296, -0.13836046440262936, -0.38648207463593376, 0.18646799581651802, 0.25533777295512944, -0.18274172290672117, 0.10504064554292525, -0.028082451970205216, 0.007801949326426613, 0.01733765775916489, 0.016313272468850344, -0.0028037203001791563, -0.13621309673895696, 0.14294817476275615, -0.10832221369857437, 0.18553213243210376, -0.03865270449719614, 0.08795164806617205, 0.06657213514513345, 0.20562007664086115, -0.06062459069356379, 0.049061697629495186, 0.1053776678428196, 0.03420956058873309, 0.12017625118896011, -0.016158940862199146, -0.0241353723603211, 0.17171777869091615, -0.15347749042895084, 0.003737829352344746, -0.12249087328076257, 0.041458539362045944, 0.0468947440188713, 0.050380133405656, 0.02980114153575734, 0.0027469138007307934, -0.014319252399392659, 0.22017333857626337, 0.10300618407952136], [0.010516611922734686, -0.21118508849394904, 1.0, -0.0017616785446833952, -0.11137722919362898, -0.16422140157973802, 0.23172016612971874, -0.11198227977670865, -0.16990730376707536, -0.16581835875542186, 0.13981188531169106, -0.13602065434942082, -0.1386091715362487, -0.001975973524730626, 0.015797636062166, 0.03478948852445199, 0.11637446553365939, 0.023198487672255422, -0.024525804414101075, 0.052010348064670545, -0.18843382069111725, 0.0809716602324878, -0.1387564851212686, 0.023671013010513185, -0.1726445096177079, 0.06326814139964838, -0.10117591361448183, -0.016557742951036198, -0.07819808202669813, -0.039740962058925404, 0.05202098094740329, 0.06026700017637367, -0.15064248847911435, 0.05907101281466968, -0.023303211243906045, 0.05916129080173914, -0.08485229643715717, -0.04792181740961563, -0.013133748883376253, 0.029116685539573493, 0.02916790813972577, 0.04842990069632624, -0.11389023002193659, 0.06207819481604459], [-0.006487672136207867, 0.008576401079278321, -0.0017616785446833952, 1.0, 0.016504805732567716, 0.011941980029002547, 0.0007424302790417011, 8.317719019653056e-05, 0.004519193677139973, 0.2899989345730554, 0.17220876982804517, -0.018997059796347495, -0.010573531064008643, 0.0144559537770293, -0.012757121366933445, -0.0074568321728636505, 0.015894875009399484, 0.31543109424025745, 0.27968999474292017, -0.452425489961283, -0.05787969996011212, -0.09289270011220115, -0.09286669818148435, -0.052312242947634764, -0.05444676293913726, -0.09633961826825559, -0.12245547899852695, -0.02257359179493519, -0.11225408873033375, -0.03295889236478296, 0.00755621292514459, -0.007721160009098325, 0.0030618298454302066, -0.0033187895436075847, -0.3273537394642321, 0.10722156265910057, -0.0655219092521565, -0.06925739660285136, 0.009173738601398498, 0.01354416083530414, 0.047230224853350544, 0.06397885330677887, 0.24739796321412494, 0.11321354444457048], [-0.011753691221221238, 0.15652955931114873, -0.11137722919362898, 0.016504805732567716, 1.0, 0.19182533166644541, -0.16909644687220246, 0.07054898372686831, 0.1978725625678542, 0.32685324851959013, -0.3210130652332027, 0.11736311691266421, -0.0031498193854710126, -0.0030263991648078617, 0.010224948981790823, -0.008326689425064124, 0.004490858801717905, -0.15186361470687518, 0.16353017421289867, -0.0631210849300296, 0.26779314581033625, -0.0036358971484736916, 0.1451204561734168, 0.12673537300695792, 0.23013613487107135, 0.03787990020728005, 0.04771151266520775, 0.22384098246008893, 0.059487769080054306, 0.21171599176513312, -0.016332203527892688, -0.013588829059283302, 0.20886475546714192, -0.2053980051888406, -0.006482307788873072, -0.25103911008484847, 0.06811636295290968, 0.06879036751956709, 0.08240723181194681, 0.07021607444323133, 0.05839553030922403, 0.011690553488378413, 0.35214996779595914, 0.15857437033153196], [-0.008612095078997463, 0.15088932817647296, -0.16422140157973802, 0.011941980029002547, 0.19182533166644541, 1.0, -0.40510291068797993, 0.2593196983550145, 0.36759495385963603, 0.3080197449448075, -0.22789044975610792, 0.30256479344648624, 0.31970032137696436, -0.0033399715841475157, -0.04392017182717854, -0.10303468526773615, -0.23681565708091676, -0.03256857845018864, 0.04010212769982239, -0.12421382390258645, 0.34263679985111534, -0.17122629194853634, 0.26800518096235426, -0.08225486893813826, 0.3372807277351956, -0.16467355590159904, 0.12891588111511512, 0.06322774611875473, 0.13084502938617007, 0.06138154801518815, -0.11793667192853156, -0.13430175066263256, 0.301918749011285, -0.09168283858843226, 0.0417872235214099, -0.07575363536722006, 0.155680297123726, 0.07679023385680821, 0.006449789575471183, -0.03742049943688946, -0.08976780537227952, -0.09180583874167608, 0.19335642223784563, -0.19832426260399502], [0.0033859456136262796, -0.13836046440262936, 0.23172016612971874, 0.0007424302790417011, -0.16909644687220246, -0.40510291068797993, 1.0, -0.7943572143900955, -0.5396764113322096, -0.24416415597397462, 0.21863876616156266, -0.40101731119036316, -0.5003826269128525, -0.11797134110707774, 0.020652268384748255, 0.18826740425717803, 0.49602713751514266, -0.08674010596728214, 0.08820313233781159, 0.06550876072359825, -0.403255273689533, 0.2466788676313635, -0.33879627049374006, 0.16417233309253518, -0.4391098285439591, 0.285241310295581, -0.2954791429870141, 0.11228242714591914, -0.30045652081397656, 0.11663335681857676, 0.1797068873575995, 0.2041449607569331, -0.3316614848172629, -0.004138055475923, -0.08345125478939242, 0.011370248252041972, -0.26457227714719495, -0.14897561490497432, 0.0018373011133035447, 0.16402600888662816, 0.21716905641739878, 0.20244942974883903, -0.060165327127736146, 0.4442549080768271], [-0.0037759984925327455, -0.38648207463593376, -0.11198227977670865, 8.317719019653056e-05, 0.07054898372686831, 0.2593196983550145, -0.7943572143900955, 1.0, 0.3455895208719733, 0.08270487374714874, -0.10616641666135203, 0.2837703870408468, 0.4569966189355769, 0.08555961408126313, -0.0468305144865679, -0.16999543741146556, -0.4121014235344056, 0.1480239753111587, -0.14971215930677137, 0.005660444125169474, 0.25499666751991884, -0.1852203724708992, 0.24286410160126923, -0.1615100890834317, 0.2686986251715219, -0.1996169203180482, 0.22977691895639601, -0.1413963125774446, 0.24353328176785388, -0.1546072637390206, -0.13537044770465342, -0.16001827896531148, 0.1860144650409409, 0.08097376947436312, 0.07066593463010724, 0.042097274249217186, 0.2047351332501563, 0.09563502986845167, -0.027701907406468326, -0.14165463465717823, -0.17628754524548398, -0.16252987019400117, -0.04807472584954417, -0.41370658382686365], [-0.0069688154692139435, 0.18646799581651802, -0.16990730376707536, 0.004519193677139973, 0.1978725625678542, 0.36759495385963603, -0.5396764113322096, 0.3455895208719733, 1.0, 0.3209598344730554, -0.2598720924718915, 0.32697934516158655, 0.28073924885414175, 0.04686067541919682, -0.007227317199134075, -0.10473962557318897, -0.26575605107572553, -0.032581664872847, 0.03567042028130932, -0.10999570137075108, 0.3679180822128539, -0.1700425723029652, 0.2782024599710312, -0.06518085660626195, 0.3812169895970963, -0.18404154350937527, 0.1633226988166017, 0.055677066527380616, 0.16658521231949475, 0.052558453850650326, -0.31627035864584196, -0.3133827992758065, 0.8394430525077718, -0.32517662576923606, 0.03649236304117364, -0.11399150577550836, 0.19478900063201443, 0.12959306579769897, 0.030692391799061986, -0.07539538053836137, -0.11657494942361593, -0.10976592185088259, 0.20289280324010792, -0.21287506481300217], [-0.011286442720116788, 0.25533777295512944, -0.16581835875542186, 0.2899989345730554, 0.32685324851959013, 0.3080197449448075, -0.24416415597397462, 0.08270487374714874, 0.3209598344730554, 1.0, -0.4657927104460395, 0.20847149330644643, -0.024369565426564956, 2.0946322459738306e-05, 0.012556689338706347, 0.008983012006417846, 0.009719383736093047, -0.19019164164266983, 0.3660832496117892, -0.6409871702805158, 0.41156075490341365, -0.03069571096235206, 0.22804703338286397, 0.16565089083393386, 0.40242972350684364, -0.020492402500577954, 0.06470665733452634, 0.3293485259115254, 0.07064998669449263, 0.32292269808483876, -0.022624012243866037, -0.05007665545044517, 0.3364097780255705, -0.30683412957623935, -0.09493223567314706, -0.36269892922339564, 0.09291088242765538, 0.09784506021534964, 0.14082589931554837, 0.11504311304083624, 0.06449678742531297, 0.041262807674613815, 0.787065528472674, 0.36165543578004794], [0.006025751154069604, -0.18274172290672117, 0.13981188531169106, 0.17220876982804517, -0.3210130652332027, -0.22789044975610792, 0.21863876616156266, -0.10616641666135203, -0.2598720924718915, -0.4657927104460395, 1.0, -0.28226160126279404, 0.02718698874098419, 0.018836681679540078, -0.015163315124182841, -0.008269526007885337, -0.02777089198151765, 0.31004604059739277, -0.21056352377914278, -0.3806345434753767, -0.5224293380827663, -0.333402704896457, -0.4647198001961842, -0.3815932968077265, -0.5187332164827466, -0.3362982846984971, -0.4285039212787635, -0.415551893880319, -0.42533933333412005, -0.4186750789702281, -0.0021133998738822233, 0.0010297293228975783, -0.2849166458500381, 0.32136073231782275, -0.056373184771759594, 0.7668544386616538, -0.21344474145081338, -0.21902976845023278, -0.22161601024175392, -0.19183287106590452, -0.14926165353562226, -0.10276204475324274, -0.7635565582866174, -0.3752228425945346], [0.0034135357041748028, 0.10504064554292525, -0.13602065434942082, -0.018997059796347495, 0.11736311691266421, 0.30256479344648624, -0.40101731119036316, 0.2837703870408468, 0.32697934516158655, 0.20847149330644643, -0.28226160126279404, 1.0, 0.34163673912417253, 0.01877870116466811, -0.05999247344148079, -0.11863899063169107, -0.2548314546159453, 0.03267203294663215, -0.04443155260884424, 0.02697659698250772, 0.3303753426802053, -0.10813507717695882, 0.6073801915554752, -0.38940452013714844, 0.5441363542836422, -0.34318231811587846, 0.320523095007404, -0.08361034939463914, 0.3172420247018443, -0.07968504899074658, -0.09083024163219618, -0.1327641737301977, 0.24180359927056969, -0.05230502379802956, 0.19971963780961163, 0.11701347043966569, 0.28385920165104506, 0.030920994519849657, -0.17568289450514196, -0.19575969423168874, -0.15231704292540862, -0.10486558611016054, 0.05357574603657979, -0.2843863431108611], [-0.006476741933005745, -0.028082451970205216, -0.1386091715362487, -0.010573531064008643, -0.0031498193854710126, 0.31970032137696436, -0.5003826269128525, 0.4569966189355769, 0.28073924885414175, -0.024369565426564956, 0.02718698874098419, 0.34163673912417253, 1.0, -0.31076547958311357, -0.2879329040028446, -0.2807804529340981, -0.38779967915988406, 0.2608400716621851, -0.2702343619257793, 0.0018846817332426307, 0.20155798937014976, -0.24762471597817862, 0.2358114553762946, -0.2697271926423418, 0.20001980379673287, -0.24500983247685743, 0.19758375866034714, -0.22192736254352521, 0.19629732377483042, -0.21995601146553345, -0.19519784741460172, -0.19007488309148807, 0.1697586261643762, 0.18761158051726598, 0.09659345477820513, 0.2161379719388725, 0.17736817689983939, 0.012318717999428143, -0.12218255626541366, -0.18704411408727314, -0.1815884276698723, -0.13600141475544186, -0.19582433336061164, -0.6167194058801695], [0.004373518452120793, 0.007801949326426613, -0.001975973524730626, 0.0144559537770293, -0.0030263991648078617, -0.0033399715841475157, -0.11797134110707774, 0.08555961408126313, 0.04686067541919682, 2.0946322459738306e-05, 0.018836681679540078, 0.01877870116466811, -0.31076547958311357, 1.0, -0.17631747106914394, -0.17193762400458545, -0.2374715003403191, 0.04964241569727663, -0.04156870017374388, -0.01636071308730674, 0.030031052519282238, -0.05036530207033401, 0.05255070406496863, -0.07118376606626711, 0.033130451391823856, -0.05359310103750621, 0.03224035050137402, -0.048408572987857175, 0.03862592342678353, -0.0546842132300993, -0.025140232705352674, -0.02290132455824974, 0.008117638924841854, 0.03806885851394966, -0.010199981492044654, -0.0018260591038288937, 0.05088224602947971, 0.09013365837721282, -0.001935029519759424, -0.03636436753614885, -0.0795548670402933, -0.07700256690669278, -0.042475593710870674, -0.18590643057540746], [-0.002619065948279373, 0.01733765775916489, 0.015797636062166, -0.012757121366933445, 0.010224948981790823, -0.04392017182717854, 0.020652268384748255, -0.0468305144865679, -0.007227317199134075, 0.012556689338706347, -0.015163315124182841, -0.05999247344148079, -0.2879329040028446, -0.17631747106914394, 1.0, -0.15930501500168706, -0.22002398336721132, -0.0441960711300367, 0.037075711226447455, 3.066493172511673e-05, 0.008827582470836889, 0.004053951405676194, 0.00442565204519221, 0.008522326596388876, -0.0062856290166645535, 0.020687819837708565, -0.0221902546317786, 0.03518037984070831, -0.007588065258819613, 0.020434237980508696, 0.003147859920735817, 0.017154015612903972, 0.009431756094916097, -0.030508476296892316, -0.012471391390905407, -0.06165918292646342, -0.0010103107809098669, 0.02282225121920131, 0.0809385837970146, 0.022685934038753474, -0.016683332058846572, -0.05074538674253275, 0.02577924604537384, 0.0193913763200881], [-0.007495610869791519, 0.016313272468850344, 0.03478948852445199, -0.0074568321728636505, -0.008326689425064124, -0.10303468526773615, 0.18826740425717803, -0.16999543741146556, -0.10473962557318897, 0.008983012006417846, -0.008269526007885337, -0.11863899063169107, -0.2807804529340981, -0.17193762400458545, -0.15930501500168706, 1.0, -0.21455843652243517, -0.062322487974021096, 0.058588899462537036, -0.0022144270021047315, -0.05272560841686357, 0.06583089936491515, -0.0765065957659035, 0.08703263664894345, -0.03994130191264065, 0.051503693520811564, -0.055952468059952784, 0.06332944136390083, -0.06594480192356114, 0.07316249386798748, 0.07282796695978384, 0.04383851247315141, -0.04582424842161956, -0.0631556113132487, -0.03831982626084121, -0.06329795037533419, -0.08351679862821353, -0.0011405642175600142, 0.08979444011627055, 0.07990114613982839, 0.03392441136949232, -0.01951577491141036, 0.05328022161939752, 0.2117196533061629], [0.011727814402547398, -0.0028037203001791563, 0.11637446553365939, 0.015894875009399484, 0.004490858801717905, -0.23681565708091676, 0.49602713751514266, -0.4121014235344056, -0.26575605107572553, 0.009719383736093047, -0.02777089198151765, -0.2548314546159453, -0.38779967915988406, -0.2374715003403191, -0.22002398336721132, -0.21455843652243517, 1.0, -0.24966378575342216, 0.26211340395738203, 0.013931422052366456, -0.21750073299516076, 0.26578406706936447, -0.25274013543271673, 0.28790513721671834, -0.21635674021555115, 0.26353581036214885, -0.18667260181315184, 0.21143790939575402, -0.19476126946056702, 0.21890836611027825, 0.17983618375166602, 0.18407993159451083, -0.16869722722569688, -0.16780349244112444, -0.058349868469251207, -0.13919934287022367, -0.17532290463903555, -0.11048172247759983, -0.0007263338782098415, 0.15854534498198886, 0.2600231187279581, 0.2780899959768306, 0.19282697412513186, 0.6682265637593973], [0.004476122373779718, -0.13621309673895696, 0.023198487672255422, 0.31543109424025745, -0.15186361470687518, -0.03256857845018864, -0.08674010596728214, 0.1480239753111587, -0.032581664872847, -0.19019164164266983, 0.31004604059739277, 0.03267203294663215, 0.2608400716621851, 0.04964241569727663, -0.0441960711300367, -0.062322487974021096, -0.24966378575342216, 1.0, -0.8228533739769971, -0.07017933361588229, -0.11803967172970328, -0.1519504841683278, -0.036276537396139424, -0.23085237242152853, -0.1134822345257722, -0.15642521492470993, 0.004912604988265538, -0.2675281328562756, 0.01307605676809046, -0.27525622600611316, -0.07017770331025897, -0.06392145833871449, -0.08083556522609313, 0.222605254379153, -0.10325754824285079, 0.30618054408245665, 0.010272534618772965, -0.038483515670520774, -0.09622410552600613, -0.12098527407169751, -0.10461943753288547, -0.11122353939544416, -0.33831372903110696, -0.3960585159876681], [-0.00841365587151559, 0.14294817476275615, -0.024525804414101075, 0.27968999474292017, 0.16353017421289867, 0.04010212769982239, 0.08820313233781159, -0.14971215930677137, 0.03567042028130932, 0.3660832496117892, -0.21056352377914278, -0.04443155260884424, -0.2702343619257793, -0.04156870017374388, 0.037075711226447455, 0.058588899462537036, 0.26211340395738203, -0.8228533739769971, 1.0, -0.1999202093533399, 0.08476581836042205, 0.09810813969724957, -0.018908397931387724, 0.20223701632048843, 0.08221059829549753, 0.10057130998574261, -0.0782996455466118, 0.25715163510819916, -0.0804501027578153, 0.25875149199378983, 0.07552652675122472, 0.06004835777743914, 0.08361817831666819, -0.22720630042804055, -0.09155756566983209, -0.24556858340102392, -0.049629282282999274, -0.002537674958456383, 0.1028473616097888, 0.13051637483341372, 0.13413042798589525, 0.15084156222158607, 0.49043396944000867, 0.46850381616364334], [0.006567778691102118, -0.10832221369857437, 0.052010348064670545, -0.452425489961283, -0.0631210849300296, -0.12421382390258645, 0.06550876072359825, 0.005660444125169474, -0.10999570137075108, -0.6409871702805158, -0.3806345434753767, 0.02697659698250772, 0.0018846817332426307, -0.01636071308730674, 3.066493172511673e-05, -0.0022144270021047315, 0.013931422052366456, -0.07017933361588229, -0.1999202093533399, 1.0, 0.023065732064935042, 0.3212689079448847, 0.1647830436719273, 0.15788439397403897, 0.0294017846056387, 0.3131179268609463, 0.3040624179005031, 0.01627372679457073, 0.29510661726278103, 0.02569783199417058, 0.025475536146245106, 0.05143757263283329, -0.10441759819553018, 0.041899281981820136, 0.14810317596777198, -0.2861398286788709, 0.08804760377321166, 0.08773574275270929, 0.04506349963695784, 0.04617313025748473, 0.06206867835015082, 0.046015008372748904, -0.1601893262044364, -0.05246858799893648], [0.01042908841920113, 0.18553213243210376, -0.18843382069111725, -0.05787969996011212, 0.26779314581033625, 0.34263679985111534, -0.403255273689533, 0.25499666751991884, 0.3679180822128539, 0.41156075490341365, -0.5224293380827663, 0.3303753426802053, 0.20155798937014976, 0.030031052519282238, 0.008827582470836889, -0.05272560841686357, -0.21750073299516076, -0.11803967172970328, 0.08476581836042205, 0.023065732064935042, 1.0, -0.6297165782520794, 0.3784675418700155, 0.057714565735976324, 0.4703593138247001, -0.043910700525214064, 0.2576991250070113, 0.1830345989339524, 0.2653036710804196, 0.17548650825381457, -0.08432241177256201, -0.10550969525221791, 0.3363640634929488, -0.19171501561255763, 0.10790585570602623, -0.25143341852837947, 0.24067873756658117, 0.1632074370499549, 0.08217002604216078, 0.007285850400551701, -0.11865894493708438, -0.1940924960890313, 0.3608980557319581, -0.06313718639318364], [-0.017020796813958704, -0.03865270449719614, 0.0809716602324878, -0.09289270011220115, -0.0036358971484736916, -0.17122629194853634, 0.2466788676313635, -0.1852203724708992, -0.1700425723029652, -0.03069571096235206, -0.333402704896457, -0.10813507717695882, -0.24762471597817862, -0.05036530207033401, 0.004053951405676194, 0.06583089936491515, 0.26578406706936447, -0.1519504841683278, 0.09810813969724957, 0.3212689079448847, -0.6297165782520794, 1.0, 0.004916961154575785, 0.28383223353270814, -0.047476707861269014, 0.3549307078927568, 0.10545284137355028, 0.17620730704239565, 0.09416167701138893, 0.18739833092625272, 0.0951580427350095, 0.11572065517555083, -0.11233777625406866, -0.08079805377721072, -0.06795010622857028, -0.42063031348013635, -0.07165501320046207, 0.019090748776440153, 0.11104744497112744, 0.16671101290076268, 0.2671803076617124, 0.3082219887362633, 0.2965941920005668, 0.4116505266521849], [0.008190988066357157, 0.08795164806617205, -0.1387564851212686, -0.09286669818148435, 0.1451204561734168, 0.26800518096235426, -0.33879627049374006, 0.24286410160126923, 0.2782024599710312, 0.22804703338286397, -0.4647198001961842, 0.6073801915554752, 0.2358114553762946, 0.05255070406496863, 0.00442565204519221, -0.0765065957659035, -0.25274013543271673, -0.036276537396139424, -0.018908397931387724, 0.1647830436719273, 0.3784675418700155, 0.004916961154575785, 1.0, -0.6411215340096442, 0.38534099035575453, -0.0026421872822138376, 0.3166891639904631, 0.07477581218873115, 0.30720048539707323, 0.08465426824068802, -0.08159008505663891, -0.08782179736768794, 0.236946963871235, -0.09997516637631303, 0.12130575187018866, -0.17902867062196548, 0.27452890244257966, 0.16252008828843661, 0.02748104682451625, -0.08052949671173922, -0.12984768601604635, -0.17265229845837476, 0.21075337001875705, -0.17627611811578564], [-0.01377318872900596, 0.06657213514513345, 0.023671013010513185, -0.052312242947634764, 0.12673537300695792, -0.08225486893813826, 0.16417233309253518, -0.1615100890834317, -0.06518085660626195, 0.16565089083393386, -0.3815932968077265, -0.38940452013714844, -0.2697271926423418, -0.07118376606626711, 0.008522326596388876, 0.08703263664894345, 0.28790513721671834, -0.23085237242152853, 0.20223701632048843, 0.15788439397403897, 0.057714565735976324, 0.28383223353270814, -0.6411215340096442, 1.0, 0.047335882351172774, 0.2942328784069205, 0.040798532040264956, 0.2821064219717299, 0.04796097848423509, 0.274501201960493, 0.08700369093869247, 0.0907847854525632, -0.0004077158725881331, -0.17416391693981773, -0.07777172972320834, -0.47775586327498687, -0.10158529768777605, 0.020181447268733117, 0.1633903793688709, 0.25032921277611153, 0.264915418961925, 0.26929730058914425, 0.44178009435947035, 0.5092260122231467], [0.0033971478097872105, 0.20562007664086115, -0.1726445096177079, -0.05444676293913726, 0.23013613487107135, 0.3372807277351956, -0.4391098285439591, 0.2686986251715219, 0.3812169895970963, 0.40242972350684364, -0.5187332164827466, 0.5441363542836422, 0.20001980379673287, 0.033130451391823856, -0.0062856290166645535, -0.03994130191264065, -0.21635674021555115, -0.1134822345257722, 0.08221059829549753, 0.0294017846056387, 0.4703593138247001, -0.047476707861269014, 0.38534099035575453, 0.047335882351172774, 1.0, -0.6306917657939353, 0.34701599555377316, 0.08999139229988345, 0.3459931591717508, 0.09139547530347826, -0.09017661798725884, -0.10730963427620328, 0.33903131701091704, -0.18718484219619158, 0.10867471559655247, -0.24658237117862353, 0.3014445270554431, 0.19898429014804458, 0.08516776501615707, -0.048348560285691164, -0.1934227599027446, -0.19271931618718804, 0.3220760193857884, -0.08287366191409669], [-0.009211760356587549, -0.06062459069356379, 0.06326814139964838, -0.09633961826825559, 0.03787990020728005, -0.16467355590159904, 0.285241310295581, -0.1996169203180482, -0.18404154350937527, -0.020492402500577954, -0.3362982846984971, -0.34318231811587846, -0.24500983247685743, -0.05359310103750621, 0.020687819837708565, 0.051503693520811564, 0.26353581036214885, -0.15642521492470993, 0.10057130998574261, 0.3131179268609463, -0.043910700525214064, 0.3549307078927568, -0.0026421872822138376, 0.2942328784069205, -0.6306917657939353, 1.0, 0.006701250020442545, 0.27807020363722595, 0.00495543049870408, 0.27935847892844207, 0.10125246802181254, 0.11727230654466908, -0.11483871499570059, -0.08550850677032465, -0.06854024827676168, -0.4244578606625614, -0.1383106669839, -0.02037594216887896, 0.10734628477092331, 0.22738685471113088, 0.348551152469414, 0.30556815014797933, 0.3383042642201648, 0.43188277132751535], [0.0032674444881383704, 0.049061697629495186, -0.10117591361448183, -0.12245547899852695, 0.04771151266520775, 0.12891588111511512, -0.2954791429870141, 0.22977691895639601, 0.1633226988166017, 0.06470665733452634, -0.4285039212787635, 0.320523095007404, 0.19758375866034714, 0.03224035050137402, -0.0221902546317786, -0.055952468059952784, -0.18667260181315184, 0.004912604988265538, -0.0782996455466118, 0.3040624179005031, 0.2576991250070113, 0.10545284137355028, 0.3166891639904631, 0.040798532040264956, 0.34701599555377316, 0.006701250020442545, 1.0, -0.6437667127104625, 0.5377730397498587, -0.17732813454781293, -0.04416763907676325, -0.041031361263671504, 0.09603303697422182, -0.024261007248864607, 0.13155815378194152, -0.11431577350460323, 0.3267015320448216, 0.13370903077711663, 0.00023147363013560567, -0.14586978067974274, -0.17162139902283582, -0.15919740642852195, 0.01695147216454861, -0.19588431494960967], [-0.008392549998355633, 0.1053776678428196, -0.016557742951036198, -0.02257359179493519, 0.22384098246008893, 0.06322774611875473, 0.11228242714591914, -0.1413963125774446, 0.055677066527380616, 0.3293485259115254, -0.415551893880319, -0.08361034939463914, -0.22192736254352521, -0.048408572987857175, 0.03518037984070831, 0.06332944136390083, 0.21143790939575402, -0.2675281328562756, 0.25715163510819916, 0.01627372679457073, 0.1830345989339524, 0.17620730704239565, 0.07477581218873115, 0.2821064219717299, 0.08999139229988345, 0.27807020363722595, -0.6437667127104625, 1.0, -0.18113533322001496, 0.5330938326942409, 0.04625225164274569, 0.040433080354261755, 0.14462638547452714, -0.24774242360739093, -0.08469276019044952, -0.5343821485031791, -0.1481120702463521, 0.05089836372516033, 0.18745697815364862, 0.3093094058988887, 0.2991786545503946, 0.24729052199396587, 0.6296031609781186, 0.5149734780629709], [0.005374329036311909, 0.03420956058873309, -0.07819808202669813, -0.11225408873033375, 0.059487769080054306, 0.13084502938617007, -0.30045652081397656, 0.24353328176785388, 0.16658521231949475, 0.07064998669449263, -0.42533933333412005, 0.3172420247018443, 0.19629732377483042, 0.03862592342678353, -0.007588065258819613, -0.06594480192356114, -0.19476126946056702, 0.01307605676809046, -0.0804501027578153, 0.29510661726278103, 0.2653036710804196, 0.09416167701138893, 0.30720048539707323, 0.04796097848423509, 0.3459931591717508, 0.00495543049870408, 0.5377730397498587, -0.18113533322001496, 1.0, -0.6438150242418448, -0.0467052640611027, -0.0492765049697282, 0.10257118616844516, -0.021034046310894505, 0.13253696602628146, -0.11324664699621127, 0.3259792595941771, 0.1475732340009516, -0.01293920023835258, -0.1452483466815332, -0.1753508653557858, -0.15802170145085373, 0.01807510411034437, -0.20218821748312163], [-0.010487356300499686, 0.12017625118896011, -0.039740962058925404, -0.03295889236478296, 0.21171599176513312, 0.06138154801518815, 0.11663335681857676, -0.1546072637390206, 0.052558453850650326, 0.32292269808483876, -0.4186750789702281, -0.07968504899074658, -0.21995601146553345, -0.0546842132300993, 0.020434237980508696, 0.07316249386798748, 0.21890836611027825, -0.27525622600611316, 0.25875149199378983, 0.02569783199417058, 0.17548650825381457, 0.18739833092625272, 0.08465426824068802, 0.274501201960493, 0.09139547530347826, 0.27935847892844207, -0.17732813454781293, 0.5330938326942409, -0.6438150242418448, 1.0, 0.04865217505038656, 0.04857480053298277, 0.13796637540689907, -0.25059546380835057, -0.08532928999514905, -0.5347193922117558, -0.14663498311060366, 0.03710454387953682, 0.20035375640597017, 0.3079355937840155, 0.3021485071686728, 0.24544581207458568, 0.6274288843898873, 0.5201217821008781], [-0.016023595160041378, -0.016158940862199146, 0.05202098094740329, 0.00755621292514459, -0.016332203527892688, -0.11793667192853156, 0.1797068873575995, -0.13537044770465342, -0.31627035864584196, -0.022624012243866037, -0.0021133998738822233, -0.09083024163219618, -0.19519784741460172, -0.025140232705352674, 0.003147859920735817, 0.07282796695978384, 0.17983618375166602, -0.07017770331025897, 0.07552652675122472, 0.025475536146245106, -0.08432241177256201, 0.0951580427350095, -0.08159008505663891, 0.08700369093869247, -0.09017661798725884, 0.10125246802181254, -0.04416763907676325, 0.04625225164274569, -0.0467052640611027, 0.04865217505038656, 1.0, -0.2782148074777716, -0.3767621373493346, -0.28868512421141257, -0.02765057532919177, -0.04481842514814707, -0.0673158707795727, -0.02534750245126809, 0.022234037012634333, 0.06471137669186842, 0.05867720146210609, 0.06422415957151413, 0.042812140557898816, 0.1859869321041078], [0.0012147794729686294, -0.0241353723603211, 0.06026700017637367, -0.007721160009098325, -0.013588829059283302, -0.13430175066263256, 0.2041449607569331, -0.16001827896531148, -0.3133827992758065, -0.05007665545044517, 0.0010297293228975783, -0.1327641737301977, -0.19007488309148807, -0.02290132455824974, 0.017154015612903972, 0.04383851247315141, 0.18407993159451083, -0.06392145833871449, 0.06004835777743914, 0.05143757263283329, -0.10550969525221791, 0.11572065517555083, -0.08782179736768794, 0.0907847854525632, -0.10730963427620328, 0.11727230654466908, -0.041031361263671504, 0.040433080354261755, -0.0492765049697282, 0.04857480053298277, -0.2782148074777716, 1.0, -0.3733222859365921, -0.28604941899078157, -0.020469954216653125, -0.05094007265637037, -0.061615264130491856, -0.022318419200665306, 0.0024107008300571584, 0.04102560828536282, 0.09528481036489694, 0.08620291942973225, 0.03055035807230956, 0.1829145812629737], [0.0007521807011949914, 0.17171777869091615, -0.15064248847911435, 0.0030618298454302066, 0.20886475546714192, 0.301918749011285, -0.3316614848172629, 0.1860144650409409, 0.8394430525077718, 0.3364097780255705, -0.2849166458500381, 0.24180359927056969, 0.1697586261643762, 0.008117638924841854, 0.009431756094916097, -0.04582424842161956, -0.16869722722569688, -0.08083556522609313, 0.08361817831666819, -0.10441759819553018, 0.3363640634929488, -0.11233777625406866, 0.236946963871235, -0.0004077158725881331, 0.33903131701091704, -0.11483871499570059, 0.09603303697422182, 0.14462638547452714, 0.10257118616844516, 0.13796637540689907, -0.3767621373493346, -0.3733222859365921, 1.0, -0.3873718709062573, 0.01740948168965437, -0.1756715968046083, 0.1376593831162035, 0.10371819670121553, 0.06921784322524506, -0.007192929018264147, -0.04497591521026094, -0.08142171369752148, 0.2716246710861189, -0.05924588832828326], [0.013744173305345336, -0.15347749042895084, 0.05907101281466968, -0.0033187895436075847, -0.2053980051888406, -0.09168283858843226, -0.004138055475923, 0.08097376947436312, -0.32517662576923606, -0.30683412957623935, 0.32136073231782275, -0.05230502379802956, 0.18761158051726598, 0.03806885851394966, -0.030508476296892316, -0.0631556113132487, -0.16780349244112444, 0.222605254379153, -0.22720630042804055, 0.041899281981820136, -0.19171501561255763, -0.08079805377721072, -0.09997516637631303, -0.17416391693981773, -0.18718484219619158, -0.08550850677032465, -0.024261007248864607, -0.24774242360739093, -0.021034046310894505, -0.25059546380835057, -0.28868512421141257, -0.28604941899078157, -0.3873718709062573, 1.0, 0.02771359762842712, 0.29152351731633036, -0.028092956659226696, -0.06976721648830278, -0.10206865586528849, -0.09583397521315298, -0.1005757639207113, -0.05617035398364558, -0.37743731568410765, -0.2957584231354866], [0.012379399525304997, 0.003737829352344746, -0.023303211243906045, -0.3273537394642321, -0.006482307788873072, 0.0417872235214099, -0.08345125478939242, 0.07066593463010724, 0.03649236304117364, -0.09493223567314706, -0.056373184771759594, 0.19971963780961163, 0.09659345477820513, -0.010199981492044654, -0.012471391390905407, -0.03831982626084121, -0.058349868469251207, -0.10325754824285079, -0.09155756566983209, 0.14810317596777198, 0.10790585570602623, -0.06795010622857028, 0.12130575187018866, -0.07777172972320834, 0.10867471559655247, -0.06854024827676168, 0.13155815378194152, -0.08469276019044952, 0.13253696602628146, -0.08532928999514905, -0.02765057532919177, -0.020469954216653125, 0.01740948168965437, 0.02771359762842712, 1.0, -0.07351223639019631, -0.04350172521850391, -0.04463999786094218, -0.04516709437782315, -0.03909705522967194, -0.030420704645290196, -0.020943716876606976, -0.1419938837933224, -0.097309811125342], [0.006565467664951225, -0.12249087328076257, 0.05916129080173914, 0.10722156265910057, -0.25103911008484847, -0.07575363536722006, 0.011370248252041972, 0.042097274249217186, -0.11399150577550836, -0.36269892922339564, 0.7668544386616538, 0.11701347043966569, 0.2161379719388725, -0.0018260591038288937, -0.06165918292646342, -0.06329795037533419, -0.13919934287022367, 0.30618054408245665, -0.24556858340102392, -0.2861398286788709, -0.25143341852837947, -0.42063031348013635, -0.17902867062196548, -0.47775586327498687, -0.24658237117862353, -0.4244578606625614, -0.11431577350460323, -0.5343821485031791, -0.11324664699621127, -0.5347193922117558, -0.04481842514814707, -0.05094007265637037, -0.1756715968046083, 0.29152351731633036, -0.07351223639019631, 1.0, -0.2783380139564862, -0.28562104802117644, -0.288993580879027, -0.25015552025847787, -0.1946414417267171, -0.13400462926524154, -0.7240042761862723, -0.49249484850913616], [0.0010289440492884218, 0.041458539362045944, -0.08485229643715717, -0.0655219092521565, 0.06811636295290968, 0.155680297123726, -0.26457227714719495, 0.2047351332501563, 0.19478900063201443, 0.09291088242765538, -0.21344474145081338, 0.28385920165104506, 0.17736817689983939, 0.05088224602947971, -0.0010103107809098669, -0.08351679862821353, -0.17532290463903555, 0.010272534618772965, -0.049629282282999274, 0.08804760377321166, 0.24067873756658117, -0.07165501320046207, 0.27452890244257966, -0.10158529768777605, 0.3014445270554431, -0.1383106669839, 0.3267015320448216, -0.1481120702463521, 0.3259792595941771, -0.14663498311060366, -0.0673158707795727, -0.061615264130491856, 0.1376593831162035, -0.028092956659226696, -0.04350172521850391, -0.2783380139564862, 1.0, -0.16901959398553068, -0.17101532972796607, -0.14803245335122656, -0.11518134843817562, -0.07929880583908658, 0.010334565421040486, -0.19642251555989745], [-0.0011614404834415237, 0.0468947440188713, -0.04792181740961563, -0.06925739660285136, 0.06879036751956709, 0.07679023385680821, -0.14897561490497432, 0.09563502986845167, 0.12959306579769897, 0.09784506021534964, -0.21902976845023278, 0.030920994519849657, 0.012318717999428143, 0.09013365837721282, 0.02282225121920131, -0.0011405642175600142, -0.11048172247759983, -0.038483515670520774, -0.002537674958456383, 0.08773574275270929, 0.1632074370499549, 0.019090748776440153, 0.16252008828843661, 0.020181447268733117, 0.19898429014804458, -0.02037594216887896, 0.13370903077711663, 0.05089836372516033, 0.1475732340009516, 0.03710454387953682, -0.02534750245126809, -0.022318419200665306, 0.10371819670121553, -0.06976721648830278, -0.04463999786094218, -0.28562104802117644, -0.16901959398553068, 1.0, -0.17549014240010644, -0.15190589264579207, -0.11819520081272428, -0.0813737502421507, 0.11631077638352119, -0.05987456163405599], [0.0055143952407482695, 0.050380133405656, -0.013133748883376253, 0.009173738601398498, 0.08240723181194681, 0.006449789575471183, 0.0018373011133035447, -0.027701907406468326, 0.030692391799061986, 0.14082589931554837, -0.22161601024175392, -0.17568289450514196, -0.12218255626541366, -0.001935029519759424, 0.0809385837970146, 0.08979444011627055, -0.0007263338782098415, -0.09622410552600613, 0.1028473616097888, 0.04506349963695784, 0.08217002604216078, 0.11104744497112744, 0.02748104682451625, 0.1633903793688709, 0.08516776501615707, 0.10734628477092331, 0.00023147363013560567, 0.18745697815364862, -0.01293920023835258, 0.20035375640597017, 0.022234037012634333, 0.0024107008300571584, 0.06921784322524506, -0.10206865586528849, -0.04516709437782315, -0.288993580879027, -0.17101532972796607, -0.17549014240010644, 1.0, -0.15369955462482543, -0.11959081644096925, -0.08233458855694516, 0.24938252181909196, 0.15106475458944213], [0.0022639248556893103, 0.02980114153575734, 0.029116685539573493, 0.01354416083530414, 0.07021607444323133, -0.03742049943688946, 0.16402600888662816, -0.14165463465717823, -0.07539538053836137, 0.11504311304083624, -0.19183287106590452, -0.19575969423168874, -0.18704411408727314, -0.03636436753614885, 0.022685934038753474, 0.07990114613982839, 0.15854534498198886, -0.12098527407169751, 0.13051637483341372, 0.04617313025748473, 0.007285850400551701, 0.16671101290076268, -0.08052949671173922, 0.25032921277611153, -0.048348560285691164, 0.22738685471113088, -0.14586978067974274, 0.3093094058988887, -0.1452483466815332, 0.3079355937840155, 0.06471137669186842, 0.04102560828536282, -0.007192929018264147, -0.09583397521315298, -0.03909705522967194, -0.25015552025847787, -0.14803245335122656, -0.15190589264579207, -0.15369955462482543, 1.0, -0.1035189183577457, -0.07126958243530004, 0.2992482749703062, 0.31535649292949375], [-0.01729639977578561, 0.0027469138007307934, 0.02916790813972577, 0.047230224853350544, 0.05839553030922403, -0.08976780537227952, 0.21716905641739878, -0.17628754524548398, -0.11657494942361593, 0.06449678742531297, -0.14926165353562226, -0.15231704292540862, -0.1815884276698723, -0.0795548670402933, -0.016683332058846572, 0.03392441136949232, 0.2600231187279581, -0.10461943753288547, 0.13413042798589525, 0.06206867835015082, -0.11865894493708438, 0.2671803076617124, -0.12984768601604635, 0.264915418961925, -0.1934227599027446, 0.348551152469414, -0.17162139902283582, 0.2991786545503946, -0.1753508653557858, 0.3021485071686728, 0.05867720146210609, 0.09528481036489694, -0.04497591521026094, -0.1005757639207113, -0.030420704645290196, -0.1946414417267171, -0.11518134843817562, -0.11819520081272428, -0.11959081644096925, -0.1035189183577457, 1.0, -0.05545356049761999, 0.2890817945062925, 0.3917850148151173], [-0.013175503226569995, -0.014319252399392659, 0.04842990069632624, 0.06397885330677887, 0.011690553488378413, -0.09180583874167608, 0.20244942974883903, -0.16252987019400117, -0.10976592185088259, 0.041262807674613815, -0.10276204475324274, -0.10486558611016054, -0.13600141475544186, -0.07700256690669278, -0.05074538674253275, -0.01951577491141036, 0.2780899959768306, -0.11122353939544416, 0.15084156222158607, 0.046015008372748904, -0.1940924960890313, 0.3082219887362633, -0.17265229845837476, 0.26929730058914425, -0.19271931618718804, 0.30556815014797933, -0.15919740642852195, 0.24729052199396587, -0.15802170145085373, 0.24544581207458568, 0.06422415957151413, 0.08620291942973225, -0.08142171369752148, -0.05617035398364558, -0.020943716876606976, -0.13400462926524154, -0.07929880583908658, -0.0813737502421507, -0.08233458855694516, -0.07126958243530004, -0.05545356049761999, 1.0, 0.24635281052679783, 0.3785302478196156], [-0.014569323728666463, 0.22017333857626337, -0.11389023002193659, 0.24739796321412494, 0.35214996779595914, 0.19335642223784563, -0.060165327127736146, -0.04807472584954417, 0.20289280324010792, 0.787065528472674, -0.7635565582866174, 0.05357574603657979, -0.19582433336061164, -0.042475593710870674, 0.02577924604537384, 0.05328022161939752, 0.19282697412513186, -0.33831372903110696, 0.49043396944000867, -0.1601893262044364, 0.3608980557319581, 0.2965941920005668, 0.21075337001875705, 0.44178009435947035, 0.3220760193857884, 0.3383042642201648, 0.01695147216454861, 0.6296031609781186, 0.01807510411034437, 0.6274288843898873, 0.042812140557898816, 0.03055035807230956, 0.2716246710861189, -0.37743731568410765, -0.1419938837933224, -0.7240042761862723, 0.010334565421040486, 0.11631077638352119, 0.24938252181909196, 0.2992482749703062, 0.2890817945062925, 0.24635281052679783, 1.0, 0.6511738315787867], [-8.030345627875773e-05, 0.10300618407952136, 0.06207819481604459, 0.11321354444457048, 0.15857437033153196, -0.19832426260399502, 0.4442549080768271, -0.41370658382686365, -0.21287506481300217, 0.36165543578004794, -0.3752228425945346, -0.2843863431108611, -0.6167194058801695, -0.18590643057540746, 0.0193913763200881, 0.2117196533061629, 0.6682265637593973, -0.3960585159876681, 0.46850381616364334, -0.05246858799893648, -0.06313718639318364, 0.4116505266521849, -0.17627611811578564, 0.5092260122231467, -0.08287366191409669, 0.43188277132751535, -0.19588431494960967, 0.5149734780629709, -0.20218821748312163, 0.5201217821008781, 0.1859869321041078, 0.1829145812629737, -0.05924588832828326, -0.2957584231354866, -0.097309811125342, -0.49249484850913616, -0.19642251555989745, -0.05987456163405599, 0.15106475458944213, 0.31535649292949375, 0.3917850148151173, 0.3785302478196156, 0.6511738315787867, 1.0]]}],\n",
       "                        {\"margin\": {\"b\": 210, \"l\": 210, \"r\": 0, \"t\": 25}, \"template\": {\"data\": {\"bar\": [{\"error_x\": {\"color\": \"#2a3f5f\"}, \"error_y\": {\"color\": \"#2a3f5f\"}, \"marker\": {\"line\": {\"color\": \"#E5ECF6\", \"width\": 0.5}}, \"type\": \"bar\"}], \"barpolar\": [{\"marker\": {\"line\": {\"color\": \"#E5ECF6\", \"width\": 0.5}}, \"type\": \"barpolar\"}], \"carpet\": [{\"aaxis\": {\"endlinecolor\": \"#2a3f5f\", \"gridcolor\": \"white\", \"linecolor\": \"white\", \"minorgridcolor\": \"white\", \"startlinecolor\": \"#2a3f5f\"}, \"baxis\": {\"endlinecolor\": \"#2a3f5f\", \"gridcolor\": \"white\", \"linecolor\": \"white\", \"minorgridcolor\": \"white\", \"startlinecolor\": \"#2a3f5f\"}, \"type\": \"carpet\"}], \"choropleth\": [{\"colorbar\": {\"outlinewidth\": 0, \"ticks\": \"\"}, \"type\": \"choropleth\"}], \"contour\": [{\"colorbar\": {\"outlinewidth\": 0, \"ticks\": \"\"}, \"colorscale\": [[0.0, \"#0d0887\"], [0.1111111111111111, \"#46039f\"], [0.2222222222222222, \"#7201a8\"], [0.3333333333333333, \"#9c179e\"], [0.4444444444444444, \"#bd3786\"], [0.5555555555555556, \"#d8576b\"], [0.6666666666666666, \"#ed7953\"], [0.7777777777777778, \"#fb9f3a\"], [0.8888888888888888, \"#fdca26\"], [1.0, \"#f0f921\"]], \"type\": \"contour\"}], \"contourcarpet\": [{\"colorbar\": {\"outlinewidth\": 0, \"ticks\": \"\"}, \"type\": \"contourcarpet\"}], \"heatmap\": [{\"colorbar\": {\"outlinewidth\": 0, \"ticks\": \"\"}, \"colorscale\": [[0.0, \"#0d0887\"], [0.1111111111111111, \"#46039f\"], [0.2222222222222222, \"#7201a8\"], [0.3333333333333333, \"#9c179e\"], [0.4444444444444444, \"#bd3786\"], [0.5555555555555556, \"#d8576b\"], [0.6666666666666666, \"#ed7953\"], [0.7777777777777778, \"#fb9f3a\"], [0.8888888888888888, \"#fdca26\"], [1.0, \"#f0f921\"]], \"type\": \"heatmap\"}], \"heatmapgl\": [{\"colorbar\": {\"outlinewidth\": 0, \"ticks\": \"\"}, \"colorscale\": [[0.0, \"#0d0887\"], [0.1111111111111111, \"#46039f\"], [0.2222222222222222, \"#7201a8\"], [0.3333333333333333, \"#9c179e\"], [0.4444444444444444, \"#bd3786\"], [0.5555555555555556, \"#d8576b\"], [0.6666666666666666, \"#ed7953\"], [0.7777777777777778, \"#fb9f3a\"], [0.8888888888888888, \"#fdca26\"], [1.0, \"#f0f921\"]], \"type\": \"heatmapgl\"}], \"histogram\": [{\"marker\": {\"colorbar\": {\"outlinewidth\": 0, \"ticks\": \"\"}}, \"type\": \"histogram\"}], \"histogram2d\": [{\"colorbar\": {\"outlinewidth\": 0, \"ticks\": \"\"}, \"colorscale\": [[0.0, \"#0d0887\"], [0.1111111111111111, \"#46039f\"], [0.2222222222222222, \"#7201a8\"], [0.3333333333333333, \"#9c179e\"], [0.4444444444444444, \"#bd3786\"], [0.5555555555555556, \"#d8576b\"], [0.6666666666666666, \"#ed7953\"], [0.7777777777777778, \"#fb9f3a\"], [0.8888888888888888, \"#fdca26\"], [1.0, \"#f0f921\"]], \"type\": \"histogram2d\"}], \"histogram2dcontour\": [{\"colorbar\": {\"outlinewidth\": 0, \"ticks\": \"\"}, \"colorscale\": [[0.0, \"#0d0887\"], [0.1111111111111111, \"#46039f\"], [0.2222222222222222, \"#7201a8\"], [0.3333333333333333, \"#9c179e\"], [0.4444444444444444, \"#bd3786\"], [0.5555555555555556, \"#d8576b\"], [0.6666666666666666, \"#ed7953\"], [0.7777777777777778, \"#fb9f3a\"], [0.8888888888888888, \"#fdca26\"], [1.0, \"#f0f921\"]], \"type\": \"histogram2dcontour\"}], \"mesh3d\": [{\"colorbar\": {\"outlinewidth\": 0, \"ticks\": \"\"}, \"type\": \"mesh3d\"}], \"parcoords\": [{\"line\": {\"colorbar\": {\"outlinewidth\": 0, \"ticks\": \"\"}}, \"type\": \"parcoords\"}], \"pie\": [{\"automargin\": true, \"type\": \"pie\"}], \"scatter\": [{\"marker\": {\"colorbar\": {\"outlinewidth\": 0, \"ticks\": \"\"}}, \"type\": \"scatter\"}], \"scatter3d\": [{\"line\": {\"colorbar\": {\"outlinewidth\": 0, \"ticks\": \"\"}}, \"marker\": {\"colorbar\": {\"outlinewidth\": 0, \"ticks\": \"\"}}, \"type\": \"scatter3d\"}], \"scattercarpet\": [{\"marker\": {\"colorbar\": {\"outlinewidth\": 0, \"ticks\": \"\"}}, \"type\": \"scattercarpet\"}], \"scattergeo\": [{\"marker\": {\"colorbar\": {\"outlinewidth\": 0, \"ticks\": \"\"}}, \"type\": \"scattergeo\"}], \"scattergl\": [{\"marker\": {\"colorbar\": {\"outlinewidth\": 0, \"ticks\": \"\"}}, \"type\": \"scattergl\"}], \"scattermapbox\": [{\"marker\": {\"colorbar\": {\"outlinewidth\": 0, \"ticks\": \"\"}}, \"type\": \"scattermapbox\"}], \"scatterpolar\": [{\"marker\": {\"colorbar\": {\"outlinewidth\": 0, \"ticks\": \"\"}}, \"type\": \"scatterpolar\"}], \"scatterpolargl\": [{\"marker\": {\"colorbar\": {\"outlinewidth\": 0, \"ticks\": \"\"}}, \"type\": \"scatterpolargl\"}], \"scatterternary\": [{\"marker\": {\"colorbar\": {\"outlinewidth\": 0, \"ticks\": \"\"}}, \"type\": \"scatterternary\"}], \"surface\": [{\"colorbar\": {\"outlinewidth\": 0, \"ticks\": \"\"}, \"colorscale\": [[0.0, \"#0d0887\"], [0.1111111111111111, \"#46039f\"], [0.2222222222222222, \"#7201a8\"], [0.3333333333333333, \"#9c179e\"], [0.4444444444444444, \"#bd3786\"], [0.5555555555555556, \"#d8576b\"], [0.6666666666666666, \"#ed7953\"], [0.7777777777777778, \"#fb9f3a\"], [0.8888888888888888, \"#fdca26\"], [1.0, \"#f0f921\"]], \"type\": \"surface\"}], \"table\": [{\"cells\": {\"fill\": {\"color\": \"#EBF0F8\"}, \"line\": {\"color\": \"white\"}}, \"header\": {\"fill\": {\"color\": \"#C8D4E3\"}, \"line\": {\"color\": \"white\"}}, \"type\": \"table\"}]}, \"layout\": {\"annotationdefaults\": {\"arrowcolor\": \"#2a3f5f\", \"arrowhead\": 0, \"arrowwidth\": 1}, \"coloraxis\": {\"colorbar\": {\"outlinewidth\": 0, \"ticks\": \"\"}}, \"colorscale\": {\"diverging\": [[0, \"#8e0152\"], [0.1, \"#c51b7d\"], [0.2, \"#de77ae\"], [0.3, \"#f1b6da\"], [0.4, \"#fde0ef\"], [0.5, \"#f7f7f7\"], [0.6, \"#e6f5d0\"], [0.7, \"#b8e186\"], [0.8, \"#7fbc41\"], [0.9, \"#4d9221\"], [1, \"#276419\"]], \"sequential\": [[0.0, \"#0d0887\"], [0.1111111111111111, \"#46039f\"], [0.2222222222222222, \"#7201a8\"], [0.3333333333333333, \"#9c179e\"], [0.4444444444444444, \"#bd3786\"], [0.5555555555555556, \"#d8576b\"], [0.6666666666666666, \"#ed7953\"], [0.7777777777777778, \"#fb9f3a\"], [0.8888888888888888, \"#fdca26\"], [1.0, \"#f0f921\"]], \"sequentialminus\": [[0.0, \"#0d0887\"], [0.1111111111111111, \"#46039f\"], [0.2222222222222222, \"#7201a8\"], [0.3333333333333333, \"#9c179e\"], [0.4444444444444444, \"#bd3786\"], [0.5555555555555556, \"#d8576b\"], [0.6666666666666666, \"#ed7953\"], [0.7777777777777778, \"#fb9f3a\"], [0.8888888888888888, \"#fdca26\"], [1.0, \"#f0f921\"]]}, \"colorway\": [\"#636efa\", \"#EF553B\", \"#00cc96\", \"#ab63fa\", \"#FFA15A\", \"#19d3f3\", \"#FF6692\", \"#B6E880\", \"#FF97FF\", \"#FECB52\"], \"font\": {\"color\": \"#2a3f5f\"}, \"geo\": {\"bgcolor\": \"white\", \"lakecolor\": \"white\", \"landcolor\": \"#E5ECF6\", \"showlakes\": true, \"showland\": true, \"subunitcolor\": \"white\"}, \"hoverlabel\": {\"align\": \"left\"}, \"hovermode\": \"closest\", \"mapbox\": {\"style\": \"light\"}, \"paper_bgcolor\": \"white\", \"plot_bgcolor\": \"#E5ECF6\", \"polar\": {\"angularaxis\": {\"gridcolor\": \"white\", \"linecolor\": \"white\", \"ticks\": \"\"}, \"bgcolor\": \"#E5ECF6\", \"radialaxis\": {\"gridcolor\": \"white\", \"linecolor\": \"white\", \"ticks\": \"\"}}, \"scene\": {\"xaxis\": {\"backgroundcolor\": \"#E5ECF6\", \"gridcolor\": \"white\", \"gridwidth\": 2, \"linecolor\": \"white\", \"showbackground\": true, \"ticks\": \"\", \"zerolinecolor\": \"white\"}, \"yaxis\": {\"backgroundcolor\": \"#E5ECF6\", \"gridcolor\": \"white\", \"gridwidth\": 2, \"linecolor\": \"white\", \"showbackground\": true, \"ticks\": \"\", \"zerolinecolor\": \"white\"}, \"zaxis\": {\"backgroundcolor\": \"#E5ECF6\", \"gridcolor\": \"white\", \"gridwidth\": 2, \"linecolor\": \"white\", \"showbackground\": true, \"ticks\": \"\", \"zerolinecolor\": \"white\"}}, \"shapedefaults\": {\"line\": {\"color\": \"#2a3f5f\"}}, \"ternary\": {\"aaxis\": {\"gridcolor\": \"white\", \"linecolor\": \"white\", \"ticks\": \"\"}, \"baxis\": {\"gridcolor\": \"white\", \"linecolor\": \"white\", \"ticks\": \"\"}, \"bgcolor\": \"#E5ECF6\", \"caxis\": {\"gridcolor\": \"white\", \"linecolor\": \"white\", \"ticks\": \"\"}}, \"title\": {\"x\": 0.05}, \"xaxis\": {\"automargin\": true, \"gridcolor\": \"white\", \"linecolor\": \"white\", \"ticks\": \"\", \"title\": {\"standoff\": 15}, \"zerolinecolor\": \"white\", \"zerolinewidth\": 2}, \"yaxis\": {\"automargin\": true, \"gridcolor\": \"white\", \"linecolor\": \"white\", \"ticks\": \"\", \"title\": {\"standoff\": 15}, \"zerolinecolor\": \"white\", \"zerolinewidth\": 2}}}, \"title\": {\"text\": \"Correlation Matrix for variables\"}, \"xaxis\": {\"tickfont\": {\"size\": 9}}, \"yaxis\": {\"tickfont\": {\"size\": 9}}},\n",
       "                        {\"responsive\": true}\n",
       "                    ).then(function(){\n",
       "                            \n",
       "var gd = document.getElementById('42c05a52-a187-4a3e-9c12-a7ae1d410dca');\n",
       "var x = new MutationObserver(function (mutations, observer) {{\n",
       "        var display = window.getComputedStyle(gd).display;\n",
       "        if (!display || display === 'none') {{\n",
       "            console.log([gd, 'removed!']);\n",
       "            Plotly.purge(gd);\n",
       "            observer.disconnect();\n",
       "        }}\n",
       "}});\n",
       "\n",
       "// Listen for the removal of the full notebook cells\n",
       "var notebookContainer = gd.closest('#notebook-container');\n",
       "if (notebookContainer) {{\n",
       "    x.observe(notebookContainer, {childList: true});\n",
       "}}\n",
       "\n",
       "// Listen for the clearing of the current output cell\n",
       "var outputEl = gd.closest('.output');\n",
       "if (outputEl) {{\n",
       "    x.observe(outputEl, {childList: true});\n",
       "}}\n",
       "\n",
       "                        })\n",
       "                };\n",
       "                });\n",
       "            </script>\n",
       "        </div>"
      ]
     },
     "metadata": {},
     "output_type": "display_data"
    }
   ],
   "source": [
    "correlation_plot()"
   ]
  },
  {
   "cell_type": "markdown",
   "metadata": {},
   "source": [
    "# 3. Prepare Dataset "
   ]
  },
  {
   "cell_type": "code",
   "execution_count": 12,
   "metadata": {},
   "outputs": [],
   "source": [
    "# Def X and Y\n",
    "y = telcom.Churn\n",
    "X = telcom.drop('Churn', 1)\n",
    "\n",
    "# Train_test split\n",
    "random_state = 42\n",
    "X_train, X_test, y_train, y_test = train_test_split(X, y, test_size = 0.2, random_state = random_state)"
   ]
  },
  {
   "cell_type": "code",
   "execution_count": 13,
   "metadata": {},
   "outputs": [],
   "source": [
    "# Cross val metric\n",
    "def cross_val_metrics(model) :\n",
    "    scores = ['accuracy', 'precision', 'recall', 'f1', 'roc_auc']\n",
    "    for sc in scores:\n",
    "        scores = cross_val_score(model, X, y, cv = 5, scoring = sc)\n",
    "        print('[%s] : %0.5f (+/- %0.5f)'%(sc, scores.mean(), scores.std()))"
   ]
  },
  {
   "cell_type": "markdown",
   "metadata": {},
   "source": [
    "# 4. LightGBM Model"
   ]
  },
  {
   "cell_type": "code",
   "execution_count": 21,
   "metadata": {},
   "outputs": [
    {
     "name": "stdout",
     "output_type": "stream",
     "text": [
      "[[918 118]\n",
      " [188 185]]\n",
      "0.7828246983676366\n",
      "0.6910394691896034\n",
      "Wall time: 942 ms\n"
     ]
    }
   ],
   "source": [
    "%%time\n",
    "lgbm_clf = lgbm.LGBMClassifier(n_estimators=1000, random_state = 42)\n",
    "\n",
    "fit = lgbm_clf.fit(X_train, y_train)\n",
    "predictions = fit.predict(X_test)\n",
    "accuracy = accuracy_score(y_test, predictions)\n",
    "roc = roc_auc_score(y_test, predictions)\n",
    "print(confusion_matrix(y_test, predictions))\n",
    "print(accuracy)\n",
    "print(roc)"
   ]
  },
  {
   "cell_type": "markdown",
   "metadata": {},
   "source": [
    "### RandomizedSearchCV to optimiza hyperparameters"
   ]
  },
  {
   "cell_type": "code",
   "execution_count": 22,
   "metadata": {},
   "outputs": [
    {
     "name": "stdout",
     "output_type": "stream",
     "text": [
      "Fitting 5 folds for each of 200 candidates, totalling 1000 fits\n"
     ]
    },
    {
     "name": "stderr",
     "output_type": "stream",
     "text": [
      "[Parallel(n_jobs=1)]: Using backend SequentialBackend with 1 concurrent workers.\n",
      "[Parallel(n_jobs=1)]: Done 1000 out of 1000 | elapsed:  2.6min finished\n"
     ]
    },
    {
     "name": "stdout",
     "output_type": "stream",
     "text": [
      "Best params: {'colsample_bytree': 0.6982071692927494, 'learning_rate': 0.03, 'max_depth': 6, 'min_child_samples': 231, 'min_child_weight': 1e-05, 'n_estimators': 1000, 'num_leaves': 34, 'reg_alpha': 10, 'reg_lambda': 50, 'subsample': 0.8025969765979608} \n"
     ]
    }
   ],
   "source": [
    "fit_params = {\"early_stopping_rounds\" : 50, \n",
    "             \"eval_metric\" : 'binary', \n",
    "             \"eval_set\" : [(X_test,y_test)],\n",
    "             'eval_names': ['valid'],\n",
    "             'verbose': 0,\n",
    "             'categorical_feature': 'auto'}\n",
    "\n",
    "param_test = {'learning_rate' : [0.01, 0.02, 0.03, 0.04, 0.05, 0.08, 0.1, 0.2, 0.3, 0.4],\n",
    "              'n_estimators' : [100, 200, 300, 400, 500, 600, 800, 1000, 1500, 2000, 3000, 5000],\n",
    "              'num_leaves': sp_randint(6, 50), \n",
    "              'min_child_samples': sp_randint(100, 500), \n",
    "              'min_child_weight': [1e-5, 1e-3, 1e-2, 1e-1, 1, 1e1, 1e2, 1e3, 1e4],\n",
    "              'subsample': sp_uniform(loc=0.2, scale=0.8), \n",
    "              'max_depth': [-1, 1, 2, 3, 4, 5, 6, 7],\n",
    "              'colsample_bytree': sp_uniform(loc=0.4, scale=0.6),\n",
    "              'reg_alpha': [0, 1e-1, 1, 2, 5, 7, 10, 50, 100],\n",
    "              'reg_lambda': [0, 1e-1, 1, 5, 10, 20, 50, 100]}\n",
    "\n",
    "#number of combinations\n",
    "n_iter = 200\n",
    "\n",
    "#intialize lgbm and lunch the search\n",
    "lgbm_clf = lgbm.LGBMClassifier(random_state=random_state, silent=True, metric='None', n_jobs=4)\n",
    "grid_search = RandomizedSearchCV(\n",
    "    estimator=lgbm_clf, param_distributions=param_test, \n",
    "    n_iter=n_iter,\n",
    "    scoring='accuracy',\n",
    "    cv=5,\n",
    "    refit=True,\n",
    "    random_state=random_state,\n",
    "    verbose=True)\n",
    "\n",
    "grid_search.fit(X_train, y_train, **fit_params)\n",
    "print('Best params: {} '.format(grid_search.best_params_))\n",
    "\n",
    "opt_parameters =  grid_search.best_params_"
   ]
  },
  {
   "cell_type": "code",
   "execution_count": 24,
   "metadata": {},
   "outputs": [
    {
     "name": "stdout",
     "output_type": "stream",
     "text": [
      "[[946  90]\n",
      " [169 204]]\n",
      "0.8161816891412349\n",
      "0.7300221516039209\n",
      "Wall time: 337 ms\n"
     ]
    }
   ],
   "source": [
    "%%time\n",
    "lgbm_clf = lgbm.LGBMClassifier(**opt_parameters)\n",
    "\n",
    "fit = lgbm_clf.fit(X_train, y_train)\n",
    "predictions = fit.predict(X_test)\n",
    "accuracy = accuracy_score(y_test, predictions)\n",
    "roc = roc_auc_score(y_test, predictions)\n",
    "print(confusion_matrix(y_test, predictions))\n",
    "print(accuracy)\n",
    "print(roc)"
   ]
  },
  {
   "cell_type": "markdown",
   "metadata": {},
   "source": [
    "accuracy increased to 81.6%"
   ]
  },
  {
   "cell_type": "markdown",
   "metadata": {},
   "source": [
    "### Cross validation "
   ]
  },
  {
   "cell_type": "code",
   "execution_count": 25,
   "metadata": {},
   "outputs": [
    {
     "name": "stdout",
     "output_type": "stream",
     "text": [
      "[accuracy] : 0.79356 (+/- 0.00801)\n",
      "[precision] : 0.63920 (+/- 0.02227)\n",
      "[recall] : 0.51204 (+/- 0.00738)\n",
      "[f1] : 0.56842 (+/- 0.01079)\n",
      "[roc_auc] : 0.83378 (+/- 0.00829)\n"
     ]
    }
   ],
   "source": [
    "cross_val_metrics(lgbm_clf)"
   ]
  },
  {
   "cell_type": "markdown",
   "metadata": {},
   "source": [
    "5 fold cross validation has increased roc_auc score to 83.4%"
   ]
  },
  {
   "cell_type": "code",
   "execution_count": null,
   "metadata": {},
   "outputs": [],
   "source": []
  }
 ],
 "metadata": {
  "kernelspec": {
   "display_name": "Python 3",
   "language": "python",
   "name": "python3"
  },
  "language_info": {
   "codemirror_mode": {
    "name": "ipython",
    "version": 3
   },
   "file_extension": ".py",
   "mimetype": "text/x-python",
   "name": "python",
   "nbconvert_exporter": "python",
   "pygments_lexer": "ipython3",
   "version": "3.7.3"
  }
 },
 "nbformat": 4,
 "nbformat_minor": 2
}
